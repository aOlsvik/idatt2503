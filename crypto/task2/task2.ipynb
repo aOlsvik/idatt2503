{
 "cells": [
  {
   "cell_type": "markdown",
   "metadata": {},
   "source": [
    "# Task 2"
   ]
  },
  {
   "cell_type": "markdown",
   "metadata": {},
   "source": [
    "## Oppgave 1 - AES a little history"
   ]
  },
  {
   "cell_type": "markdown",
   "metadata": {},
   "source": [
    "### 1\n",
    "<strong> The history of DES </strong> <br>\n",
    "In 1972, a study done by the NBS (National Bureau of Standards) discovered a need for a government-wide standard for cryptation of sensitive information in the US government. The standard uses an implementation of the Feistel cipher, which runs a \"round function\" several times to decrypt and encrypt data. It is this method of cryptography that NSA (National Security Agency) and NBS chose as a standard for the US in 1977\n",
    "<br><strong> The history of AES </strong> <br>\n",
    "AES is a solution to the performance issues of DES. DES was found to be insecure, and a solution to this was something calles \"triple-DES\". This method proved to be quite slow, and therefore AES was developed in 2001. It also uses different key-lengths, which was a major flaw of the DES method. \n"
   ]
  },
  {
   "cell_type": "markdown",
   "metadata": {},
   "source": [
    "### 2\n",
    "The algorithm used in AES is Rijndael "
   ]
  },
  {
   "cell_type": "markdown",
   "metadata": {},
   "source": [
    "### 3\n",
    "Two belgian cryptographers, Joan Daemen and Vincent Rijmen, developed this algorithm"
   ]
  },
  {
   "cell_type": "markdown",
   "metadata": {},
   "source": [
    "### 4\n",
    "This algorithm supports different block and key sizes. In Rijndael, the block and key size can be any multiple of 32, with 128 as a minimum and 256 as a maximum. <br>\n",
    "AES uses a version of Rijndael with a fixed block size of 128 bits and a key size of either 128, 192 or 256 bits"
   ]
  },
  {
   "cell_type": "markdown",
   "metadata": {},
   "source": [
    "## 2\n",
    "In this exercise we shall look at diffusion and confusion of some ciphers. Use 128 bits for both\n",
    "messages and keys. Use the keys\n",
    "$$K1 = 0123456789ABCDEF0123456789ABCDEF, K2 = 1123456789ABCDEF0123456789ABCDEF$$\n",
    "written in hexadecimal (not very random!) and plaintexts $$x1 = 0100000000000000000000000000000\n",
    ",x2 = 0200000000000000000000000000000$$ both in hexadecimal. The ciphers we are to consider are the following\n",
    "- A One-time pad (XOR) (see lecture notes)\n",
    "- B Affine cipher, use same key for both compoenents (see lecture notes)\n",
    "- C One round of AES\n",
    "- D Full AES.\n",
    "<br>\n",
    "\n",
    "For AES, you can use https://www.cryptool.org/en/cto/aes-step-by-step, use standard\n",
    "settings, 128-bits key, and no chaining.\n"
   ]
  },
  {
   "cell_type": "code",
   "execution_count": 3,
   "metadata": {},
   "outputs": [],
   "source": [
    "import numpy as np\n",
    "\n",
    "def hex_xor(hex_text, hex_key):\n",
    "  text = int(hex_text, 16)\n",
    "  key = int(hex_key, 16)\n",
    "  xor_result = text ^ key\n",
    "  return hex(xor_result)[2:]\n",
    "\n",
    "def hex_affine_cipher(hex_text, hex_key):\n",
    "  hex_alphabet = '0123456789abcdef'\n",
    "  m = len(hex_alphabet)\n",
    "  alphabet_hex_text = [hex_alphabet.index(c) for c in hex_text]\n",
    "  alphabet_hex_key = [hex_alphabet.index(c) for c in hex_key.lower()]\n",
    "  a = alphabet_hex_key[0]\n",
    "  while(a%2==0 or a==1):\n",
    "    a += 1\n",
    "  b = alphabet_hex_key[1]\n",
    "  print('a =', a, 'b =', b)\n",
    "  affine_result = ''\n",
    "  for i in range(len(alphabet_hex_text)):\n",
    "    affine_result += hex_alphabet[(a*alphabet_hex_text[i] + b) % m]\n",
    "  return affine_result\n",
    "\n",
    "def one_round_AES(hex_text, hex_key):\n",
    "  return 1\n"
   ]
  },
  {
   "cell_type": "code",
   "execution_count": 4,
   "metadata": {},
   "outputs": [
    {
     "name": "stdout",
     "output_type": "stream",
     "text": [
      "1A XOR with k1 and x1 & x2\n",
      "\n",
      "x1 ^ k1: 133456789abcdef0123456789abcdef\n",
      "x2 ^ k1: 103456789abcdef0123456789abcdef\n"
     ]
    }
   ],
   "source": [
    "K1 = \"0123456789ABCDEF0123456789ABCDEF\"\n",
    "K2 = \"1123456789ABCDEF0123456789ABCDEF\"\n",
    "x1 = \"0100000000000000000000000000000\"\n",
    "x2 = \"0200000000000000000000000000000\"\n",
    "\n",
    "print(\"1A XOR with k1 and x1 & x2\\n\")\n",
    "print(\"x1 ^ k1:\", hex_xor(x1, K1))\n",
    "print(\"x2 ^ k1:\", hex_xor(x2, K1))"
   ]
  },
  {
   "cell_type": "code",
   "execution_count": 5,
   "metadata": {},
   "outputs": [
    {
     "name": "stdout",
     "output_type": "stream",
     "text": [
      "a = 3 b = 1\n",
      "a = 3 b = 1\n",
      "\n",
      "1B Affine cipher with k1 and x1 & x2\n",
      "The chiffer uses the hexadecimal alphabet\n",
      "\n",
      "x1 affine cipher with k1: 1411111111111111111111111111111\n",
      "x2 affine cipher with k1: 1711111111111111111111111111111\n"
     ]
    }
   ],
   "source": [
    "affine_x1_k1 = hex_affine_cipher(x1, K1)\n",
    "affine_x2_k2 = hex_affine_cipher(x2, K1)\n",
    "\n",
    "print(\"\\n1B Affine cipher with k1 and x1 & x2\")\n",
    "print(\"The chiffer uses the hexadecimal alphabet\\n\")\n",
    "print(\"x1 affine cipher with k1:\", affine_x1_k1)\n",
    "print(\"x2 affine cipher with k1:\", affine_x2_k2)"
   ]
  },
  {
   "cell_type": "code",
   "execution_count": 132,
   "metadata": {},
   "outputs": [],
   "source": [
    "def aes_round():\n",
    "  return 1\n",
    "\n",
    "def getSubTable():\n",
    "  return [\n",
    "    ['63', '7c', '77', '7b', 'f2', '6b', '6f', 'c5', '30', '01', '67', '2b', 'fe', 'd7', 'ab', '76'],\n",
    "    ['ca', '82', 'c9', '7d', 'fa', '59', '47', 'f0', 'ad', 'd4', 'a2', 'af', '9c', 'a4', '72', 'c0'],\n",
    "    ['b7', 'fd', '93', '26', '36', '3f', 'f7', 'cc', '34', 'a5', 'e5', 'f1', '71', 'd8', '31', '15'],\n",
    "    ['04', 'c7', '23', 'c3', '18', '96', '05', '9a', '07', '12', '80', 'e2', 'eb', '27', 'b2', '75'],\n",
    "    ['09', '83', '2c', '1a', '1b', '6e', '5a', 'a0', '52', '3b', 'd6', 'b3', '29', 'e3', '2f', '84'],\n",
    "    ['53', 'd1', '00', 'ed', '20', 'fc', 'b1', '5b', '6a', 'cb', 'be', '39', '4a', '4c', '58', 'cf'],\n",
    "    ['d0', 'ef', 'aa', 'fb', '43', '4d', '33', '85', '45', 'f9', '02', '7f', '50', '3c', '9f', 'a8'],\n",
    "    ['51', 'a3', '40', '8f', '92', '9d', '38', 'f5', 'bc', 'b6', 'da', '21', '10', 'ff', 'f3', 'd2'],\n",
    "    ['cd', '0c', '13', 'ec', '5f', '97', '44', '17', 'c4', 'a7', '7e', '3d', '64', '5d', '19', '73'],\n",
    "    ['60', '81', '4f', 'dc', '22', '2a', '90', '88', '46', 'ee', 'b8', '14', 'de', '5e', '0b', 'db'],\n",
    "    ['e0', '32', '3a', '0a', '49', '06', '24', '5c', 'c2', 'd3', 'ac', '62', '91', '95', 'e4', '79'],\n",
    "    ['e7', 'c8', '37', '6d', '8d', 'd5', '4e', 'a9', '6c', '56', 'f4', 'ea', '65', '7a', 'ae', '08'],\n",
    "    ['ba', '78', '25', '2e', '1c', 'a6', 'b4', 'c6', 'e8', 'dd', '74', '1f', '4b', 'bd', '8b', '8a'],\n",
    "    ['70', '3e', 'b5', '66', '48', '03', 'f6', '0e', '61', '35', '57', 'b9', '86', 'c1', '1d', '9e'],\n",
    "    ['e1', 'f8', '98', '11', '69', 'd9', '8e', '94', '9b', '1e', '87', 'e9', 'ce', '55', '28', 'df'],\n",
    "    ['8c', 'a1', '89', '0d', 'bf', 'e6', '42', '68', '41', '99', '2d', '0f', 'b0', '54', 'bb', '16']\n",
    "  ]\n",
    "\n",
    "def getRconTable():\n",
    "  # return rcon tables as a 10x4 matrix\n",
    "  return [\n",
    "    ['01', '00', '00', '00'],\n",
    "    ['02', '00', '00', '00'],\n",
    "    ['04', '00', '00', '00'],\n",
    "    ['08', '00', '00', '00'],\n",
    "    ['10', '00', '00', '00'],\n",
    "    ['20', '00', '00', '00'],\n",
    "    ['40', '00', '00', '00'],\n",
    "    ['80', '00', '00', '00'],\n",
    "    ['1b', '00', '00', '00'],\n",
    "    ['36', '00', '00', '00']\n",
    "  ]\n",
    "\n",
    "  \n",
    "\n",
    "def hex_to_block(hex_string):\n",
    "  length = len(hex_string)\n",
    "  to_pad = 32 - length\n",
    "  encrypt_string = hex_string + '0'*to_pad\n",
    "  block = [[0]*4 for _ in range(4)]\n",
    "  for i in range(4):\n",
    "    for j in range(4):\n",
    "      index = i*8+j*2\n",
    "      block[i][j] = encrypt_string[index:index+2]\n",
    "  return block\n",
    "\n",
    "def block_to_hex(block):\n",
    "  \"\"\"Converts a 4x4 matrix to a 128-bit hexadecimal string.\"\"\"\n",
    "  return ''.join([''.join(row) for row in block])\n",
    "\n",
    "def subBytes(block):\n",
    "  sub_table = getSubTable()\n",
    "  sub_block = [[0]*4 for _ in range(4)]\n",
    "  for i in range(len(block)):\n",
    "    for j in range(len(block)):\n",
    "      sub = block[i][j]\n",
    "      row = int(sub[0], 16)\n",
    "      col = int(sub[1], 16)\n",
    "      sub_block[i][j] = sub_table[row][col]\n",
    "  return sub_block\n",
    "\n",
    "def shiftRows(block):\n",
    "  shift_block = [[0]*4 for _ in range(4)]\n",
    "  for i in range(len(block)):\n",
    "    for j in range(len(block)):\n",
    "      shift_block[i][j] = block[i][(j+i)%4]\n",
    "  return shift_block\n",
    "\n",
    "def keySchedule(hex_key, rounds):\n",
    "  keys = [11]\n",
    "  rcon_table = getRconTable()\n",
    "  for i, block in enumerate(hex_to_block(hex_key)):\n",
    "    keys[0] = (block)\n",
    "\n",
    "  for i in range(1, rounds+1):\n",
    "    for j in range(4):\n",
    "      temp = keys[i*4+j-1][]\n",
    "      print(temp)\n",
    "      if j%4 == 0:\n",
    "        temp = SubWord(RotWord(temp))\n",
    "        print(\"temp:\", temp)\n",
    "        prev = keys[i*4+j-4]\n",
    "        rcon = rcon_table[i-1]\n",
    "        print(\"rcon:\", rcon)\n",
    "        temp = hex_xor(block_to_hex(temp), block_to_hex(prev))\n",
    "        temp = hex_xor(temp, block_to_hex(rcon))\n",
    "        temp = hex_to_block(temp)[0]\n",
    "      else:\n",
    "        prev = keys[i*4+j-4]\n",
    "        temp = hex_xor(block_to_hex(temp), block_to_hex(prev))\n",
    "        temp = hex_to_block(temp)[0]\n",
    "      print(temp)\n",
    "      keys[i] = (temp)\n",
    "    \n",
    "  return keys\n",
    "\n",
    "def RotWord(word):\n",
    "  return word[1:] + [word[0]]\n",
    "\n",
    "def SubWord(word):\n",
    "  subTable = getSubTable()\n",
    "  subWord = []\n",
    "  for i in range(len(word)):\n",
    "    sub = word[i]\n",
    "    row = int(sub[0], 16)\n",
    "    col = int(sub[1], 16)\n",
    "    subWord.append(subTable[row][col])\n",
    "  return subWord"
   ]
  },
  {
   "cell_type": "code",
   "execution_count": 133,
   "metadata": {},
   "outputs": [
    {
     "name": "stdout",
     "output_type": "stream",
     "text": [
      "Hex to block:\n",
      " [['01', '23', '45', '67'], ['89', 'AB', 'CD', 'EF'], ['01', '23', '45', '67'], ['89', 'AB', 'CD', 'EF']]\n",
      "Block to hex:\n",
      " 0123456789ABCDEF0123456789ABCDEF\n",
      "Substitute:\n",
      " [['7c', '26', '6e', '85'], ['a7', '62', 'bd', 'df'], ['7c', '26', '6e', '85'], ['a7', '62', 'bd', 'df']]\n",
      "Shifted:\n",
      " [['7c', '26', '6e', '85'], ['62', 'bd', 'df', 'a7'], ['6e', '85', '7c', '26'], ['df', 'a7', '62', 'bd']]\n"
     ]
    },
    {
     "ename": "IndexError",
     "evalue": "list index out of range",
     "output_type": "error",
     "traceback": [
      "\u001b[1;31m---------------------------------------------------------------------------\u001b[0m",
      "\u001b[1;31mIndexError\u001b[0m                                Traceback (most recent call last)",
      "\u001b[1;32mc:\\Users\\Aleksander Olsvik\\Documents\\5. Semester\\Sikkerhet\\tasks\\crypto\\task2\\task2.ipynb Cell 12\u001b[0m line \u001b[0;36m6\n\u001b[0;32m      <a href='vscode-notebook-cell:/c%3A/Users/Aleksander%20Olsvik/Documents/5.%20Semester/Sikkerhet/tasks/crypto/task2/task2.ipynb#X14sZmlsZQ%3D%3D?line=3'>4</a>\u001b[0m \u001b[39mprint\u001b[39m(\u001b[39m\"\u001b[39m\u001b[39mSubstitute:\u001b[39m\u001b[39m\\n\u001b[39;00m\u001b[39m\"\u001b[39m,subBytes(hex_to_block(K1)))\n\u001b[0;32m      <a href='vscode-notebook-cell:/c%3A/Users/Aleksander%20Olsvik/Documents/5.%20Semester/Sikkerhet/tasks/crypto/task2/task2.ipynb#X14sZmlsZQ%3D%3D?line=4'>5</a>\u001b[0m \u001b[39mprint\u001b[39m(\u001b[39m\"\u001b[39m\u001b[39mShifted:\u001b[39m\u001b[39m\\n\u001b[39;00m\u001b[39m\"\u001b[39m, shiftRows(subBytes(hex_to_block(K1))))\n\u001b[1;32m----> <a href='vscode-notebook-cell:/c%3A/Users/Aleksander%20Olsvik/Documents/5.%20Semester/Sikkerhet/tasks/crypto/task2/task2.ipynb#X14sZmlsZQ%3D%3D?line=5'>6</a>\u001b[0m keys \u001b[39m=\u001b[39m keySchedule(K1, \u001b[39m10\u001b[39;49m)\n\u001b[0;32m      <a href='vscode-notebook-cell:/c%3A/Users/Aleksander%20Olsvik/Documents/5.%20Semester/Sikkerhet/tasks/crypto/task2/task2.ipynb#X14sZmlsZQ%3D%3D?line=7'>8</a>\u001b[0m \u001b[39mfor\u001b[39;00m key \u001b[39min\u001b[39;00m keys:\n\u001b[0;32m      <a href='vscode-notebook-cell:/c%3A/Users/Aleksander%20Olsvik/Documents/5.%20Semester/Sikkerhet/tasks/crypto/task2/task2.ipynb#X14sZmlsZQ%3D%3D?line=8'>9</a>\u001b[0m   \u001b[39mprint\u001b[39m(key)\n",
      "\u001b[1;32mc:\\Users\\Aleksander Olsvik\\Documents\\5. Semester\\Sikkerhet\\tasks\\crypto\\task2\\task2.ipynb Cell 12\u001b[0m line \u001b[0;36m8\n\u001b[0;32m     <a href='vscode-notebook-cell:/c%3A/Users/Aleksander%20Olsvik/Documents/5.%20Semester/Sikkerhet/tasks/crypto/task2/task2.ipynb#X14sZmlsZQ%3D%3D?line=79'>80</a>\u001b[0m \u001b[39mfor\u001b[39;00m i \u001b[39min\u001b[39;00m \u001b[39mrange\u001b[39m(\u001b[39m1\u001b[39m, rounds\u001b[39m+\u001b[39m\u001b[39m1\u001b[39m):\n\u001b[0;32m     <a href='vscode-notebook-cell:/c%3A/Users/Aleksander%20Olsvik/Documents/5.%20Semester/Sikkerhet/tasks/crypto/task2/task2.ipynb#X14sZmlsZQ%3D%3D?line=80'>81</a>\u001b[0m   \u001b[39mfor\u001b[39;00m j \u001b[39min\u001b[39;00m \u001b[39mrange\u001b[39m(\u001b[39m4\u001b[39m):\n\u001b[1;32m---> <a href='vscode-notebook-cell:/c%3A/Users/Aleksander%20Olsvik/Documents/5.%20Semester/Sikkerhet/tasks/crypto/task2/task2.ipynb#X14sZmlsZQ%3D%3D?line=81'>82</a>\u001b[0m     temp \u001b[39m=\u001b[39m keys[i\u001b[39m*\u001b[39;49m\u001b[39m4\u001b[39;49m\u001b[39m+\u001b[39;49mj\u001b[39m-\u001b[39;49m\u001b[39m1\u001b[39;49m]\n\u001b[0;32m     <a href='vscode-notebook-cell:/c%3A/Users/Aleksander%20Olsvik/Documents/5.%20Semester/Sikkerhet/tasks/crypto/task2/task2.ipynb#X14sZmlsZQ%3D%3D?line=82'>83</a>\u001b[0m     \u001b[39mprint\u001b[39m(temp)\n\u001b[0;32m     <a href='vscode-notebook-cell:/c%3A/Users/Aleksander%20Olsvik/Documents/5.%20Semester/Sikkerhet/tasks/crypto/task2/task2.ipynb#X14sZmlsZQ%3D%3D?line=83'>84</a>\u001b[0m     \u001b[39mif\u001b[39;00m j\u001b[39m%\u001b[39m\u001b[39m4\u001b[39m \u001b[39m==\u001b[39m \u001b[39m0\u001b[39m:\n",
      "\u001b[1;31mIndexError\u001b[0m: list index out of range"
     ]
    }
   ],
   "source": [
    "print(\"Hex to block:\\n\", hex_to_block(K1))\n",
    "print(\"Block to hex:\\n\", block_to_hex(hex_to_block(K1)))\n",
    "x3 = \"0102030405060708090a0b0c0d0e0f10\"\n",
    "print(\"Substitute:\\n\",subBytes(hex_to_block(K1)))\n",
    "print(\"Shifted:\\n\", shiftRows(subBytes(hex_to_block(K1))))\n",
    "keys = keySchedule(K1, 10)\n",
    "\n",
    "for key in keys:\n",
    "  print(key)\n",
    "\n"
   ]
  }
 ],
 "metadata": {
  "kernelspec": {
   "display_name": "Python 3",
   "language": "python",
   "name": "python3"
  },
  "language_info": {
   "codemirror_mode": {
    "name": "ipython",
    "version": 3
   },
   "file_extension": ".py",
   "mimetype": "text/x-python",
   "name": "python",
   "nbconvert_exporter": "python",
   "pygments_lexer": "ipython3",
   "version": "3.11.6"
  }
 },
 "nbformat": 4,
 "nbformat_minor": 2
}
