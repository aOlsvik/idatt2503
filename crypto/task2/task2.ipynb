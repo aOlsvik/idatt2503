{
 "cells": [
  {
   "cell_type": "markdown",
   "metadata": {},
   "source": [
    "# Task 2"
   ]
  },
  {
   "cell_type": "markdown",
   "metadata": {},
   "source": [
    "## Oppgave 1 - AES a little history"
   ]
  },
  {
   "cell_type": "markdown",
   "metadata": {},
   "source": [
    "### 1\n",
    "<strong> The history of DES </strong> <br>\n",
    "In 1972, a study done by the NBS (National Bureau of Standards) discovered a need for a government-wide standard for cryptation of sensitive information in the US government. The standard uses an implementation of the Feistel cipher, which runs a \"round function\" several times to decrypt and encrypt data. It is this method of cryptography that NSA (National Security Agency) and NBS chose as a standard for the US in 1977\n",
    "<br><strong> The history of AES </strong> <br>\n",
    "AES is a solution to the performance issues of DES. DES was found to be insecure, and a solution to this was something calles \"triple-DES\". This method proved to be quite slow, and therefore AES was developed in 2001. It also uses different key-lengths, which was a major flaw of the DES method. \n"
   ]
  },
  {
   "cell_type": "markdown",
   "metadata": {},
   "source": [
    "### 2\n",
    "The algorithm used in AES is Rijndael "
   ]
  },
  {
   "cell_type": "markdown",
   "metadata": {},
   "source": [
    "### 3\n",
    "Two belgian cryptographers, Joan Daemen and Vincent Rijmen, developed this algorithm"
   ]
  },
  {
   "cell_type": "markdown",
   "metadata": {},
   "source": [
    "### 4\n",
    "This algorithm supports different block and key sizes. In Rijndael, the block and key size can be any multiple of 32, with 128 as a minimum and 256 as a maximum. <br>\n",
    "AES uses a version of Rijndael with a fixed block size of 128 bits and a key size of either 128, 192 or 256 bits"
   ]
  },
  {
   "cell_type": "markdown",
   "metadata": {},
   "source": [
    "## 2\n",
    "In this exercise we shall look at diffusion and confusion of some ciphers. Use 128 bits for both\n",
    "messages and keys. Use the keys\n",
    "$$K1 = 0123456789ABCDEF0123456789ABCDEF, K2 = 1123456789ABCDEF0123456789ABCDEF$$\n",
    "written in hexadecimal (not very random!) and plaintexts $$x1 = 0100000000000000000000000000000\n",
    ",x2 = 0200000000000000000000000000000$$ both in hexadecimal. The ciphers we are to consider are the following\n",
    "- A One-time pad (XOR) (see lecture notes)\n",
    "- B Affine cipher, use same key for both compoenents (see lecture notes)\n",
    "- C One round of AES\n",
    "- D Full AES.\n",
    "<br>\n",
    "\n",
    "For AES, you can use https://www.cryptool.org/en/cto/aes-step-by-step, use standard\n",
    "settings, 128-bits key, and no chaining.\n"
   ]
  },
  {
   "cell_type": "code",
   "execution_count": 202,
   "metadata": {},
   "outputs": [],
   "source": [
    "import numpy as np\n",
    "\n",
    "def hex_xor(hex_text, hex_key):\n",
    "  text = int(hex_text, 16)\n",
    "  key = int(hex_key, 16)\n",
    "  xor_result = text ^ key\n",
    "  formatted_result = '{:0{width}x}'.format(xor_result, width=len(hex_text))    \n",
    "  return formatted_result\n",
    "\n",
    "\n",
    "def hex_affine_cipher(hex_text, hex_key):\n",
    "  hex_alphabet = '0123456789abcdef'\n",
    "  m = len(hex_alphabet)\n",
    "  alphabet_hex_text = [hex_alphabet.index(c) for c in hex_text]\n",
    "  alphabet_hex_key = [hex_alphabet.index(c) for c in hex_key.lower()]\n",
    "  a = alphabet_hex_key[0]\n",
    "  while(a%2==0 or a==1):\n",
    "    a += 1\n",
    "  b = alphabet_hex_key[1]\n",
    "  print('a =', a, 'b =', b)\n",
    "  affine_result = ''\n",
    "  for i in range(len(alphabet_hex_text)):\n",
    "    affine_result += hex_alphabet[(a*alphabet_hex_text[i] + b) % m]\n",
    "  return affine_result\n"
   ]
  },
  {
   "cell_type": "code",
   "execution_count": 169,
   "metadata": {},
   "outputs": [
    {
     "name": "stdout",
     "output_type": "stream",
     "text": [
      "1A XOR with k1 and x1 & x2\n",
      "\n",
      "x1 ^ k1: 133456789abcdef0123456789abcdef\n",
      "x2 ^ k1: 103456789abcdef0123456789abcdef\n",
      "Only one of the bits in the ciphertext changes when the plaintext changes\n"
     ]
    }
   ],
   "source": [
    "K1 = \"0123456789ABCDEF0123456789ABCDEF\"\n",
    "K2 = \"1123456789ABCDEF0123456789ABCDEF\"\n",
    "x1 = \"0100000000000000000000000000000\"\n",
    "x2 = \"0200000000000000000000000000000\"\n",
    "\n",
    "print(\"1A XOR with k1 and x1 & x2\\n\")\n",
    "print(\"x1 ^ k1:\", hex_xor(x1, K1))\n",
    "print(\"x2 ^ k1:\", hex_xor(x2, K1))\n",
    "\n",
    "print(\"Only one of the bits in the ciphertext changes when the plaintext changes\")"
   ]
  },
  {
   "cell_type": "code",
   "execution_count": 170,
   "metadata": {},
   "outputs": [
    {
     "name": "stdout",
     "output_type": "stream",
     "text": [
      "a = 3 b = 1\n",
      "a = 3 b = 1\n",
      "\n",
      "1B Affine cipher with k1 and x1 & x2\n",
      "The chiffer uses the hexadecimal alphabet\n",
      "\n",
      "x1 affine cipher with k1: 1411111111111111111111111111111\n",
      "x2 affine cipher with k1: 1711111111111111111111111111111\n",
      "Only one of the bits in the ciphertext changes when the plaintext changes\n"
     ]
    }
   ],
   "source": [
    "affine_x1_k1 = hex_affine_cipher(x1, K1)\n",
    "affine_x2_k2 = hex_affine_cipher(x2, K1)\n",
    "\n",
    "print(\"\\n1B Affine cipher with k1 and x1 & x2\")\n",
    "print(\"The chiffer uses the hexadecimal alphabet\\n\")\n",
    "print(\"x1 affine cipher with k1:\", affine_x1_k1)\n",
    "print(\"x2 affine cipher with k1:\", affine_x2_k2)\n",
    "\n",
    "print(\"Only one of the bits in the ciphertext changes when the plaintext changes\")"
   ]
  },
  {
   "cell_type": "code",
   "execution_count": 295,
   "metadata": {},
   "outputs": [],
   "source": [
    "def getSubTable():\n",
    "  return [\n",
    "    ['63', '7c', '77', '7b', 'f2', '6b', '6f', 'c5', '30', '01', '67', '2b', 'fe', 'd7', 'ab', '76'],\n",
    "    ['ca', '82', 'c9', '7d', 'fa', '59', '47', 'f0', 'ad', 'd4', 'a2', 'af', '9c', 'a4', '72', 'c0'],\n",
    "    ['b7', 'fd', '93', '26', '36', '3f', 'f7', 'cc', '34', 'a5', 'e5', 'f1', '71', 'd8', '31', '15'],\n",
    "    ['04', 'c7', '23', 'c3', '18', '96', '05', '9a', '07', '12', '80', 'e2', 'eb', '27', 'b2', '75'],\n",
    "    ['09', '83', '2c', '1a', '1b', '6e', '5a', 'a0', '52', '3b', 'd6', 'b3', '29', 'e3', '2f', '84'],\n",
    "    ['53', 'd1', '00', 'ed', '20', 'fc', 'b1', '5b', '6a', 'cb', 'be', '39', '4a', '4c', '58', 'cf'],\n",
    "    ['d0', 'ef', 'aa', 'fb', '43', '4d', '33', '85', '45', 'f9', '02', '7f', '50', '3c', '9f', 'a8'],\n",
    "    ['51', 'a3', '40', '8f', '92', '9d', '38', 'f5', 'bc', 'b6', 'da', '21', '10', 'ff', 'f3', 'd2'],\n",
    "    ['cd', '0c', '13', 'ec', '5f', '97', '44', '17', 'c4', 'a7', '7e', '3d', '64', '5d', '19', '73'],\n",
    "    ['60', '81', '4f', 'dc', '22', '2a', '90', '88', '46', 'ee', 'b8', '14', 'de', '5e', '0b', 'db'],\n",
    "    ['e0', '32', '3a', '0a', '49', '06', '24', '5c', 'c2', 'd3', 'ac', '62', '91', '95', 'e4', '79'],\n",
    "    ['e7', 'c8', '37', '6d', '8d', 'd5', '4e', 'a9', '6c', '56', 'f4', 'ea', '65', '7a', 'ae', '08'],\n",
    "    ['ba', '78', '25', '2e', '1c', 'a6', 'b4', 'c6', 'e8', 'dd', '74', '1f', '4b', 'bd', '8b', '8a'],\n",
    "    ['70', '3e', 'b5', '66', '48', '03', 'f6', '0e', '61', '35', '57', 'b9', '86', 'c1', '1d', '9e'],\n",
    "    ['e1', 'f8', '98', '11', '69', 'd9', '8e', '94', '9b', '1e', '87', 'e9', 'ce', '55', '28', 'df'],\n",
    "    ['8c', 'a1', '89', '0d', 'bf', 'e6', '42', '68', '41', '99', '2d', '0f', 'b0', '54', 'bb', '16']\n",
    "  ]\n",
    "\n",
    "def getRconTable():\n",
    "  # return rcon tables as a 10x4 matrix\n",
    "  return [\n",
    "    ['01', '00', '00', '00'],\n",
    "    ['02', '00', '00', '00'],\n",
    "    ['04', '00', '00', '00'],\n",
    "    ['08', '00', '00', '00'],\n",
    "    ['10', '00', '00', '00'],\n",
    "    ['20', '00', '00', '00'],\n",
    "    ['40', '00', '00', '00'],\n",
    "    ['80', '00', '00', '00'],\n",
    "    ['1b', '00', '00', '00'],\n",
    "    ['36', '00', '00', '00']\n",
    "  ]\n",
    "\n",
    "def hex_to_block(hex_string):\n",
    "  length = len(hex_string)\n",
    "  to_pad = 32 - length\n",
    "  encrypt_string = hex_string + '0'*to_pad\n",
    "  block = [[0]*4 for _ in range(4)]\n",
    "  for i in range(4):\n",
    "    for j in range(4):\n",
    "      index = i*8+j*2\n",
    "      block[i][j] = encrypt_string[index:index+2]\n",
    "  return block\n",
    "\n",
    "def block_to_hex(block):\n",
    "  \"\"\"Converts a 4x4 matrix to a 128-bit hexadecimal string.\"\"\"\n",
    "  return ''.join([''.join(row) for row in block])\n",
    "\n",
    "def subBytes(block):\n",
    "  sub_table = getSubTable()\n",
    "  sub_block = [[0]*4 for _ in range(4)]\n",
    "  for i in range(len(block)):\n",
    "    for j in range(len(block)):\n",
    "      sub = block[i][j]\n",
    "      row = int(sub[0], 16)\n",
    "      col = int(sub[1], 16)\n",
    "      sub_block[i][j] = sub_table[row][col]\n",
    "  return sub_block\n",
    "\n",
    "def shiftRows(block):\n",
    "    shift_block = [[0]*4 for _ in range(4)]\n",
    "    for i in range (len(block)):\n",
    "      shift_block[i][0] = block[i][0]\n",
    "    for i in range(len(block)):\n",
    "      for j in range(1, len(block)):\n",
    "        shift_block[i][j] = block[(i+j)%4][j]\n",
    "    return shift_block\n",
    "\n",
    "\n",
    "def keySchedule(hex_key, rounds):\n",
    "  keys = []\n",
    "  rcon_table = getRconTable()\n",
    "  for i, block in enumerate(hex_to_block(hex_key)):\n",
    "    keys.append(block)\n",
    "  for i in range(4, (rounds+1)*4):\n",
    "      temp = keys[i-1]\n",
    "      if i%4 == 0:\n",
    "        temp = SubWord(RotWord(temp))\n",
    "        prev = keys[i-4]\n",
    "        rcon = rcon_table[int(i/4)-1]\n",
    "        temp = hex_xor(block_to_hex(temp), block_to_hex(prev))\n",
    "        temp = hex_xor(temp, block_to_hex(rcon))\n",
    "        temp = hex_to_block(temp)[0]\n",
    "      else:\n",
    "        prev = keys[i-4]\n",
    "        temp = hex_xor(block_to_hex(temp), block_to_hex(prev))\n",
    "        temp = hex_to_block(temp)[0]\n",
    "      keys.append(temp)\n",
    "    \n",
    "  return keys\n",
    "\n",
    "def RotWord(word):\n",
    "  return word[1:] + [word[0]]\n",
    "\n",
    "def SubWord(word):\n",
    "  subTable = getSubTable()\n",
    "  subWord = []\n",
    "  for i in range(len(word)):\n",
    "    sub = word[i]\n",
    "    row = int(sub[0], 16)\n",
    "    col = int(sub[1], 16)\n",
    "    subWord.append(subTable[row][col])\n",
    "  return subWord\n",
    "\n",
    "def AddRoundKey(block, key):\n",
    "  result = [[0]*4 for _ in range(4)]\n",
    "  for i in range(len(block)):\n",
    "    for j in range(len(block)):\n",
    "      result[i][j] = hex_xor(block[i][j], key[i][j])\n",
    "  return result\n",
    "\n",
    "def mixColumns(block):\n",
    "  mix_matrix = getMixMatrix()\n",
    "  result = []\n",
    "  # galois multiply each element in the block with the mix matrix\n",
    "  # first the first column, first element with first row in mix matrix\n",
    "  for col in block:\n",
    "    result_col = []\n",
    "    for i in range(len(mix_matrix)):\n",
    "      sum = '00'\n",
    "      for j in range(len(col)):\n",
    "        sum = hex_xor(sum, gf_multiply_hex(col[j], mix_matrix[i][j]))\n",
    "      result_col.append(sum)\n",
    "    result.append(result_col)\n",
    "  return result\n",
    "\n",
    "def getMixMatrix():\n",
    "  # return the transposed mix matrix\n",
    "  return [\n",
    "    ['02', '03', '01', '01'],\n",
    "    ['01', '02', '03', '01'],\n",
    "    ['01', '01', '02', '03'],\n",
    "    ['03', '01', '01', '02']\n",
    "  ]\n",
    "\n",
    "def gf_multiply_hex(a_hex, b_hex):\n",
    "    a = int(a_hex, 16)\n",
    "    b = int(b_hex, 16)\n",
    "    \n",
    "    product = 0\n",
    "    for i in range(8):\n",
    "        if b & 1:\n",
    "            product ^= a\n",
    "        high_bit_set = a & 0x80\n",
    "        a <<= 1\n",
    "        if high_bit_set:\n",
    "            a ^= 0x1B  # Irreducible polynomial: x^8 + x^4 + x^3 + x + 1\n",
    "        b >>= 1\n",
    "    return hex(product & 0xFF)[2:]\n",
    "\n"
   ]
  },
  {
   "cell_type": "code",
   "execution_count": 297,
   "metadata": {},
   "outputs": [],
   "source": [
    "def one_round_AES(hex_text, hex_key):\n",
    "  block = hex_to_block(hex_text)\n",
    "  key = keySchedule(hex_key, 10)\n",
    "  k1 = key[0:4]\n",
    "  k2 = key[4:8]\n",
    "  block = AddRoundKey(block, k1)\n",
    "  block = subBytes(block)\n",
    "  block = shiftRows(block)\n",
    "  block = mixColumns(block)\n",
    "  block = AddRoundKey(block, k2)\n",
    "\n",
    "  hex_result = block_to_hex(block)\n",
    "  return hex_result"
   ]
  },
  {
   "cell_type": "code",
   "execution_count": 300,
   "metadata": {},
   "outputs": [
    {
     "name": "stdout",
     "output_type": "stream",
     "text": [
      "1C One round AES\n",
      "x1 with k1: b3543dccec87235705c3aa65640fabdf\n",
      "x2 with k1: 834c25e4ec87235705c3aa65640fabdf\n",
      "The results of x1 and x2 differ with more than earlier, but still not so much\n"
     ]
    }
   ],
   "source": [
    "print(\"1C One round AES\")\n",
    "\n",
    "print(\"x1 with k1:\", one_round_AES(x1, K1))\n",
    "print(\"x2 with k1:\", one_round_AES(x2, K1))\n",
    "\n",
    "print(\"The results of x1 and x2 differ with more than earlier, but still not so much\")\n"
   ]
  },
  {
   "cell_type": "code",
   "execution_count": 301,
   "metadata": {},
   "outputs": [],
   "source": [
    "def full_aes(hex_text, hex_key):\n",
    "  block = hex_to_block(hex_text)\n",
    "  keys = keySchedule(hex_key, 10)\n",
    "  key_array = []\n",
    "  for i in range(0, len(keys), 4):\n",
    "    key_array.append(keys[i:i+4])\n",
    "  block = AddRoundKey(block, key_array[0])\n",
    "  for i in range(1, len(key_array)-1):\n",
    "    block = subBytes(block)\n",
    "    block = shiftRows(block)\n",
    "    block = mixColumns(block)\n",
    "    block = AddRoundKey(block, key_array[i])\n",
    "  \n",
    "  block = subBytes(block)\n",
    "  block = shiftRows(block)\n",
    "  block = AddRoundKey(block, key_array[-1])\n",
    "\n",
    "  hex_result = block_to_hex(block)\n",
    "  return hex_result"
   ]
  },
  {
   "cell_type": "code",
   "execution_count": 302,
   "metadata": {},
   "outputs": [
    {
     "name": "stdout",
     "output_type": "stream",
     "text": [
      "1D Full AES\n",
      "x1 with k1: 0694267ba398480c6b2b9f649be476cb\n",
      "x2 with k1: 282f7b11019800f8a978c6f750827ab5\n"
     ]
    }
   ],
   "source": [
    "print(\"1D Full AES\")\n",
    "\n",
    "print(\"x1 with k1:\", full_aes(x1, K1))\n",
    "print(\"x2 with k1:\", full_aes(x2, K1))\n",
    "\n",
    "print(\"We can see that the results of x1 and x2 differ completely\")"
   ]
  },
  {
   "cell_type": "markdown",
   "metadata": {},
   "source": [
    "### b"
   ]
  },
  {
   "cell_type": "code",
   "execution_count": 305,
   "metadata": {},
   "outputs": [
    {
     "name": "stdout",
     "output_type": "stream",
     "text": [
      "2A XOR with x1, k1 and k2\n",
      "x1 ^ k1: 133456789abcdef0123456789abcdef\n",
      "x1 ^ k2: 1133456789abcdef0123456789abcdef\n",
      "Only one of the hex values change\n"
     ]
    }
   ],
   "source": [
    "print(\"2A XOR with x1, k1 and k2\")\n",
    "\n",
    "print(\"x1 ^ k1:\", hex_xor(x1, K1))\n",
    "print(\"x1 ^ k2:\", hex_xor(x1, K2))\n",
    "\n",
    "print(\"Only one of the hex values change\")"
   ]
  },
  {
   "cell_type": "code",
   "execution_count": 307,
   "metadata": {},
   "outputs": [
    {
     "name": "stdout",
     "output_type": "stream",
     "text": [
      "2B Affine cipher with x1, k1 and k2\n",
      "a = 3 b = 1\n",
      "x1 affine cipher with k1: 1411111111111111111111111111111\n",
      "a = 3 b = 1\n",
      "x1 affine cipher with k2: 1411111111111111111111111111111\n",
      "Only one of the hex values change here as well\n",
      "Due to similar a and b, k1 and k2 produces same result\n"
     ]
    }
   ],
   "source": [
    "print(\"2B Affine cipher with x1, k1 and k2\")\n",
    "print(\"x1 affine cipher with k1:\", hex_affine_cipher(x1, K1))\n",
    "print(\"x1 affine cipher with k2:\", hex_affine_cipher(x1, K2))\n",
    "print(\"Only one of the hex values change here as well\")\n",
    "print(\"Due to similar a and b, k1 and k2 produces same result\")"
   ]
  },
  {
   "cell_type": "code",
   "execution_count": 310,
   "metadata": {},
   "outputs": [
    {
     "name": "stdout",
     "output_type": "stream",
     "text": [
      "2C One round AES with x1, k1 and k2\n",
      "x1 with k1: b3543dccec87235705c3aa65640fabdf\n",
      "x1 with k2: eafd942cfc87235715c3aa65740fabdf\n",
      "All of the bits of the plaintext change, but the ciphertext is very similar using k1 and k2\n"
     ]
    }
   ],
   "source": [
    "print(\"2C One round AES with x1, k1 and k2\")\n",
    "print(\"x1 with k1:\", one_round_AES(x1, K1))\n",
    "print(\"x1 with k2:\", one_round_AES(x1, K2))\n",
    "print(\"All of the bits of the plaintext change, but the ciphertext is very similar using k1 and k2\")"
   ]
  },
  {
   "cell_type": "code",
   "execution_count": 312,
   "metadata": {},
   "outputs": [
    {
     "name": "stdout",
     "output_type": "stream",
     "text": [
      "2D Full AES with x1, k1 and k2\n",
      "x1 with k1: 0694267ba398480c6b2b9f649be476cb\n",
      "x1 with k2: 7af49a8defad94fa27cb03ac9f1c149a\n",
      "With full AES, the ciphertext is completely different using k1 and k2\n"
     ]
    }
   ],
   "source": [
    "print(\"2D Full AES with x1, k1 and k2\")\n",
    "print(\"x1 with k1:\", full_aes(x1, K1))\n",
    "print(\"x1 with k2:\", full_aes(x1, K2))\n",
    "print(\"With full AES, the ciphertext is completely different using k1 and k2\")"
   ]
  },
  {
   "cell_type": "markdown",
   "metadata": {},
   "source": [
    "## 3"
   ]
  },
  {
   "cell_type": "markdown",
   "metadata": {},
   "source": [
    "Bruk alfabetet bestående av 32 tegn, kodet som mellomrom som 0, a=1,..,å=29, ,=30, .=31.\n",
    "Tallene kan representeres som bitstreng av lengde 5. Bruk Cæsar-chiffer på byte-nivå, dvs.\n",
    "E(x) = x+ 3 mod 32, og bruk CBC-modus, hvor vi bruker bitvis XOR. Bruk initialiseringvektoren IV = 13 (skrevet i desimal)\n"
   ]
  },
  {
   "cell_type": "code",
   "execution_count": 414,
   "metadata": {},
   "outputs": [],
   "source": [
    "def getAlphabet():\n",
    "  return ' abcdefghijklmnopqrstuvwxyzæøå,.'\n",
    "\n",
    "def caesar_cipher(x):\n",
    "    return (x + 3) % 32\n",
    "\n",
    "def caesar_decipher(x):\n",
    "    return (x + 32 - 3) % 32\n",
    "\n",
    "def text_to_bits(text):\n",
    "  alphabet = getAlphabet()\n",
    "  indices = []\n",
    "  bits = []\n",
    "  for c in text:\n",
    "    indices.append(alphabet.index(c))\n",
    "  # turn indices to 5 length bits\n",
    "  for i in range(len(indices)):\n",
    "    indices[i] = caesar_cipher(indices[i])\n",
    "  for i in indices:\n",
    "    bits.append('{:05b}'.format(i))\n",
    "  return bits\n",
    "\n",
    "def bits_to_text(bits):\n",
    "  alphabet = getAlphabet()\n",
    "  indices = []\n",
    "  text = ''\n",
    "  for b in bits:\n",
    "    indices.append(int(b, 2))\n",
    "  for i in range(len(indices)):\n",
    "    indices[i] = caesar_decipher(indices[i])\n",
    "  for i in indices:\n",
    "    text += alphabet[i]\n",
    "  return text\n",
    "\n",
    "def cbc_encrypt(plaintext, IV):\n",
    "    alphabet = getAlphabet()\n",
    "    ciphertext = []\n",
    "    prev = IV\n",
    "\n",
    "    for i in range(len(plaintext)):\n",
    "        block = alphabet.index(plaintext[i])\n",
    "        xor = alphabet[caesar_cipher(block ^ prev)]\n",
    "        prev = alphabet.index(xor)\n",
    "        ciphertext.append(xor)\n",
    "\n",
    "    encrypted_text = ''.join(ciphertext)\n",
    "    return encrypted_text\n",
    "\n",
    "def cbc_decrypt(ciphertext, IV):\n",
    "    alphabet = getAlphabet()\n",
    "    plaintext = []\n",
    "    prev = IV\n",
    "\n",
    "    for i in range(len(ciphertext)):\n",
    "        block = alphabet.index(ciphertext[i])\n",
    "        xor = alphabet[caesar_decipher(block) ^ prev]\n",
    "        prev = alphabet.index(ciphertext[i])\n",
    "        plaintext.append(xor)\n",
    "    \n",
    "    plaintext = ''.join(plaintext)\n",
    "    return plaintext\n",
    "\n"
   ]
  },
  {
   "cell_type": "code",
   "execution_count": 422,
   "metadata": {},
   "outputs": [
    {
     "name": "stdout",
     "output_type": "stream",
     "text": [
      "CBC encryption\n",
      "Encrypting ' aaaaaa ' with IV 13 : oqsuwy\n",
      "Encrypting ' dette er en test ' with IV 13 : llærzåælomfi h,m\n"
     ]
    }
   ],
   "source": [
    "IV = 13\n",
    "encrypt1 = \"aaaaaa\"\n",
    "encrypt2 = \"dette er en test\"\n",
    "\n",
    "print(\"CBC encryption\")\n",
    "print(\"Encrypting '\", encrypt1, \"' with IV\", IV, \":\", cbc_encrypt(encrypt1, IV))\n",
    "print(\"Encrypting '\", encrypt2, \"' with IV\", IV, \":\", cbc_encrypt(encrypt2, IV))\n"
   ]
  },
  {
   "cell_type": "code",
   "execution_count": 423,
   "metadata": {},
   "outputs": [
    {
     "name": "stdout",
     "output_type": "stream",
     "text": [
      "CBC decryption\n",
      "Decrypting ' qvxæyy hkgdgk,,oqhdnc ' with IV 13 : cbc mode of operation\n"
     ]
    }
   ],
   "source": [
    "decrypt = \"qvxæyy hkgdgk,,oqhdnc\"\n",
    "print(\"CBC decryption\")\n",
    "print(\"Decrypting '\", decrypt, \"' with IV\", IV, \":\", cbc_decrypt(decrypt, IV))\n"
   ]
  }
 ],
 "metadata": {
  "kernelspec": {
   "display_name": "Python 3",
   "language": "python",
   "name": "python3"
  },
  "language_info": {
   "codemirror_mode": {
    "name": "ipython",
    "version": 3
   },
   "file_extension": ".py",
   "mimetype": "text/x-python",
   "name": "python",
   "nbconvert_exporter": "python",
   "pygments_lexer": "ipython3",
   "version": "3.11.6"
  }
 },
 "nbformat": 4,
 "nbformat_minor": 2
}
