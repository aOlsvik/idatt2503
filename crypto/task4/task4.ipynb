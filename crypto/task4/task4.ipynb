{
 "cells": [
  {
   "cell_type": "markdown",
   "metadata": {},
   "source": [
    "# Task 4"
   ]
  },
  {
   "cell_type": "markdown",
   "metadata": {},
   "source": [
    "## 1 \n",
    "Factorize n = 275621053. You can assume that n = pq, where p−q is relatively small. Show\n",
    "your calculation steps.\n"
   ]
  },
  {
   "cell_type": "markdown",
   "metadata": {},
   "source": [
    "Since n-q is relatively small, these numbers must be close to each other. That means that they must also be close to the square root of n. I will start at sqrt(n) and go upwards/downwards on p/q (based on the product compared to n), and find two numbers that multiply to n"
   ]
  },
  {
   "cell_type": "code",
   "execution_count": 3,
   "metadata": {},
   "outputs": [
    {
     "name": "stdout",
     "output_type": "stream",
     "text": [
      "n = 275621053\n",
      "p = 17021 q = 16193\n",
      "p * q = 275621053\n"
     ]
    }
   ],
   "source": [
    "import math\n",
    "\n",
    "n = 275621053\n",
    "p, q = int(math.sqrt(n)), int(math.sqrt(n))\n",
    "while p * q != n:\n",
    "  if p * q < n:\n",
    "    p += 1\n",
    "  else:\n",
    "    q -= 1\n",
    "print(\"n =\", n)\n",
    "print(\"p =\", p, \"q =\", q)\n",
    "print(\"p * q =\", p * q)"
   ]
  },
  {
   "cell_type": "markdown",
   "metadata": {},
   "source": [
    "## Task 2"
   ]
  },
  {
   "cell_type": "markdown",
   "metadata": {},
   "source": [
    "### a\n",
    "Alice wants to set up her RSA encryption with private key (n, d) with n = pq, using two\n",
    "primes p and q, and private key d = 3. She chooses p = 1283, but wonders which of the\n",
    "following choices for q she should use (NB! They are all prime numbers):\n",
    "$$ 1307, 1879, 2003, 2027 $$\n",
    "\n",
    "Explain why she should use q = 2027 for the system to work and to be most secure. For\n",
    "the weak choices of q, name an effective attack to factorize n (of course, these numbers\n",
    "are far too small to be secure, so consider the security in relative terms.) <hr>\n"
   ]
  },
  {
   "cell_type": "markdown",
   "metadata": {},
   "source": [
    "Since p = 1283, we want a number that is not so close to this. This means that 1307 is not an option. We then look at the other options for q. Both  (p-1) and (q-1) should not have small factors (other than 2 obviously). This is so that we make it more secure against Pollard's p-1 algorithm. We look at the factors for q-1:"
   ]
  },
  {
   "cell_type": "code",
   "execution_count": 9,
   "metadata": {},
   "outputs": [
    {
     "name": "stdout",
     "output_type": "stream",
     "text": [
      "The factors of 1878 are:\n",
      "2\n",
      "3\n",
      "6\n",
      "313\n",
      "626\n",
      "939\n",
      "The factors of 2002 are:\n",
      "2\n",
      "7\n",
      "11\n",
      "13\n",
      "14\n",
      "22\n",
      "26\n",
      "77\n",
      "91\n",
      "143\n",
      "154\n",
      "182\n",
      "286\n",
      "1001\n",
      "The factors of 2026 are:\n",
      "2\n",
      "1013\n"
     ]
    }
   ],
   "source": [
    "def print_factors(x):\n",
    "   print(\"The factors of\",x,\"are:\")\n",
    "   for i in range(2, int(x/2 + 1)):\n",
    "       if x % i == 0:\n",
    "           print(i)\n",
    "\n",
    "numbers = [1879, 2003, 2027]\n",
    "for number in numbers:\n",
    "  print_factors(number-1)"
   ]
  },
  {
   "cell_type": "markdown",
   "metadata": {},
   "source": [
    "Here we see that 2026 (2027 - 1) is 2*1013, which is a prime multiplied with 2. This makes 2027 a good choice for q, since it's also not so similar to q (1283)"
   ]
  },
  {
   "cell_type": "markdown",
   "metadata": {},
   "source": [
    "### b\n",
    "Find the corresponding public key e using the extended Euclidean algorithm. Write a\n",
    "program to do the calculation.<hr>"
   ]
  }
 ],
 "metadata": {
  "kernelspec": {
   "display_name": "Python 3",
   "language": "python",
   "name": "python3"
  },
  "language_info": {
   "codemirror_mode": {
    "name": "ipython",
    "version": 3
   },
   "file_extension": ".py",
   "mimetype": "text/x-python",
   "name": "python",
   "nbconvert_exporter": "python",
   "pygments_lexer": "ipython3",
   "version": "3.11.6"
  }
 },
 "nbformat": 4,
 "nbformat_minor": 2
}
