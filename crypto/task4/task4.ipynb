{
 "cells": [
  {
   "cell_type": "markdown",
   "metadata": {},
   "source": [
    "# Task 4"
   ]
  },
  {
   "cell_type": "markdown",
   "metadata": {},
   "source": [
    "## 1 \n",
    "Factorize n = 275621053. You can assume that n = pq, where p−q is relatively small. Show\n",
    "your calculation steps.\n"
   ]
  },
  {
   "cell_type": "markdown",
   "metadata": {},
   "source": [
    "Since n-q is relatively small, these numbers must be close to each other. That means that they must also be close to the square root of n. I will start at sqrt(n) and go upwards/downwards on p/q (based on the product compared to n), and find two numbers that multiply to n"
   ]
  },
  {
   "cell_type": "code",
   "execution_count": 3,
   "metadata": {},
   "outputs": [
    {
     "name": "stdout",
     "output_type": "stream",
     "text": [
      "n = 275621053\n",
      "p = 17021 q = 16193\n",
      "p * q = 275621053\n"
     ]
    }
   ],
   "source": [
    "import math\n",
    "\n",
    "n = 275621053\n",
    "p, q = int(math.sqrt(n)), int(math.sqrt(n))\n",
    "while p * q != n:\n",
    "  if p * q < n:\n",
    "    p += 1\n",
    "  else:\n",
    "    q -= 1\n",
    "print(\"n =\", n)\n",
    "print(\"p =\", p, \"q =\", q)\n",
    "print(\"p * q =\", p * q)"
   ]
  },
  {
   "cell_type": "markdown",
   "metadata": {},
   "source": [
    "## Task 2"
   ]
  },
  {
   "cell_type": "markdown",
   "metadata": {},
   "source": [
    "### a\n",
    "Alice wants to set up her RSA encryption with private key (n, d) with n = pq, using two\n",
    "primes p and q, and private key d = 3. She chooses p = 1283, but wonders which of the\n",
    "following choices for q she should use (NB! They are all prime numbers):\n",
    "$$ 1307, 1879, 2003, 2027 $$\n",
    "\n",
    "Explain why she should use q = 2027 for the system to work and to be most secure. For\n",
    "the weak choices of q, name an effective attack to factorize n (of course, these numbers\n",
    "are far too small to be secure, so consider the security in relative terms.) <hr>\n"
   ]
  },
  {
   "cell_type": "markdown",
   "metadata": {},
   "source": [
    "Since p = 1283, we want a number that is not so close to this. This means that 1307 is not an option. We then look at the other options for q. Both  (p-1) and (q-1) should not have small factors (other than 2 obviously). This is so that we make it more secure against Pollard's p-1 algorithm. We look at the factors for q-1:"
   ]
  },
  {
   "cell_type": "code",
   "execution_count": 9,
   "metadata": {},
   "outputs": [
    {
     "name": "stdout",
     "output_type": "stream",
     "text": [
      "The factors of 1878 are:\n",
      "2\n",
      "3\n",
      "6\n",
      "313\n",
      "626\n",
      "939\n",
      "The factors of 2002 are:\n",
      "2\n",
      "7\n",
      "11\n",
      "13\n",
      "14\n",
      "22\n",
      "26\n",
      "77\n",
      "91\n",
      "143\n",
      "154\n",
      "182\n",
      "286\n",
      "1001\n",
      "The factors of 2026 are:\n",
      "2\n",
      "1013\n"
     ]
    }
   ],
   "source": [
    "def print_factors(x):\n",
    "   print(\"The factors of\",x,\"are:\")\n",
    "   for i in range(2, int(x/2 + 1)):\n",
    "       if x % i == 0:\n",
    "           print(i)\n",
    "\n",
    "numbers = [1879, 2003, 2027]\n",
    "for number in numbers:\n",
    "  print_factors(number-1)"
   ]
  },
  {
   "cell_type": "markdown",
   "metadata": {},
   "source": [
    "Here we see that 2026 (2027 - 1) is 2*1013, which is a prime multiplied with 2. This makes 2027 a good choice for q, since it's also not so similar to q (1283)"
   ]
  },
  {
   "cell_type": "markdown",
   "metadata": {},
   "source": [
    "### b\n",
    "Find the corresponding public key e using the extended Euclidean algorithm. Write a\n",
    "program to do the calculation.<hr>\n",
    "Calculate the multiplicative inverse d to e\n",
    "modulo (𝑝 − 1) (𝑞 − 1) , 𝑠𝑜\n",
    "𝑑𝑒 ≡ 1 𝑚𝑜𝑑 (𝑝 − 1)(𝑞 − 1)\n"
   ]
  },
  {
   "cell_type": "code",
   "execution_count": 24,
   "metadata": {},
   "outputs": [],
   "source": [
    "def extended_euclidean(a, b):\n",
    "    if a == 0:\n",
    "        return b, 0, 1\n",
    "    else:\n",
    "        gcd, x1, y1 = extended_euclidean(b % a, a)\n",
    "        x = y1 - (b // a) * x1\n",
    "        y = x1\n",
    "        return gcd, x, y\n",
    "     "
   ]
  },
  {
   "cell_type": "code",
   "execution_count": 25,
   "metadata": {},
   "outputs": [
    {
     "name": "stdout",
     "output_type": "stream",
     "text": [
      "Solution to gcd(a, b) = ax + by, with a=e, x=d=3 and b=(p-1)(q-1)\n",
      "gcd= 1 e= 868479 y= -1\n",
      "e= 868479 is the modular inverse of d mod phi(n), and our public key component\n",
      "d*e - phi(n) =  1\n"
     ]
    }
   ],
   "source": [
    "p = 1287\n",
    "q = 2027\n",
    "d = 3\n",
    "gcd, e, y = extended_euclidean(d, (p-1)*(q-1))\n",
    "print(\"Solution to gcd(a, b) = ax + by, with a=e, x=d=3 and b=(p-1)(q-1)\")\n",
    "print(\"gcd=\", gcd, \"e=\", e, \"y=\", y)\n",
    "print(\"e=\", e, \"is the modular inverse of d mod phi(n), and our public key component\")\n",
    "print(\"d*e - phi(n) = \", d*e-(p-1)*(q-1))"
   ]
  },
  {
   "cell_type": "markdown",
   "metadata": {},
   "source": [
    "### c\n",
    "Encrypt the message 111 using repeated squaring. Implement the algorithm yourself.\n",
    "<hr>\n",
    "\n",
    "N ≡ M<sup>e</sup> mod(n)"
   ]
  },
  {
   "cell_type": "code",
   "execution_count": 28,
   "metadata": {},
   "outputs": [],
   "source": [
    "import math"
   ]
  },
  {
   "cell_type": "code",
   "execution_count": 43,
   "metadata": {},
   "outputs": [],
   "source": [
    "def encrypt_rsa(m, e, n):\n",
    "  return m\n",
    "\n",
    "def find_exponent(e, pows):\n",
    "  if(e == 1): return 0\n",
    "  i = 1\n",
    "  while e // math.pow(2, i) != 1:\n",
    "    i+=1\n",
    "  pows.append(i)\n",
    "  find_exponent(e-math.pow(2, i), pows)\n"
   ]
  },
  {
   "cell_type": "code",
   "execution_count": 53,
   "metadata": {},
   "outputs": [
    {
     "name": "stdout",
     "output_type": "stream",
     "text": [
      "[19, 18, 16, 14, 6, 5, 4, 3, 2, 1]\n",
      "e - 2**i 868479 - 524288.0 = 344191\n",
      "e - 2**i 344191.0 - 262144.0 = 82047\n",
      "e - 2**i 82047.0 - 65536.0 = 16511\n",
      "e - 2**i 16511.0 - 16384.0 = 127\n",
      "e - 2**i 127.0 - 64.0 = 63\n",
      "e - 2**i 63.0 - 32.0 = 31\n",
      "e - 2**i 31.0 - 16.0 = 15\n",
      "e - 2**i 15.0 - 8.0 = 7\n",
      "e - 2**i 7.0 - 4.0 = 3\n",
      "e - 2**i 3.0 - 2.0 = 1\n"
     ]
    }
   ],
   "source": [
    "p = 1287\n",
    "q = 2027\n",
    "d = 3\n",
    "e = 868479\n",
    "n = p*q\n",
    "\n",
    "pows = []\n",
    "\n",
    "find_exponent(e, pows)\n",
    "\n",
    "print(pows)\n",
    "e_ = e\n",
    "for pow in pows:\n",
    "  print(\"e - 2**i\", e_,\"-\", math.pow(2,pow), \"=\", int(e_ - math.pow(2, pow)))\n",
    "  e_ -= math.pow(2, pow) \n",
    "\n"
   ]
  }
 ],
 "metadata": {
  "kernelspec": {
   "display_name": "Python 3",
   "language": "python",
   "name": "python3"
  },
  "language_info": {
   "codemirror_mode": {
    "name": "ipython",
    "version": 3
   },
   "file_extension": ".py",
   "mimetype": "text/x-python",
   "name": "python",
   "nbconvert_exporter": "python",
   "pygments_lexer": "ipython3",
   "version": "3.11.6"
  }
 },
 "nbformat": 4,
 "nbformat_minor": 2
}
