{
 "cells": [
  {
   "cell_type": "markdown",
   "metadata": {},
   "source": [
    "# Task 4"
   ]
  },
  {
   "cell_type": "markdown",
   "metadata": {},
   "source": [
    "## 1 \n",
    "Factorize n = 275621053. You can assume that n = pq, where p−q is relatively small. Show\n",
    "your calculation steps.\n"
   ]
  },
  {
   "cell_type": "markdown",
   "metadata": {},
   "source": [
    "Since n-q is relatively small, these numbers must be close to each other. That means that they must also be close to the square root of n. I will start at sqrt(n) and go upwards/downwards on p/q (based on the product compared to n), and find two numbers that multiply to n"
   ]
  },
  {
   "cell_type": "code",
   "execution_count": 15,
   "metadata": {},
   "outputs": [
    {
     "name": "stdout",
     "output_type": "stream",
     "text": [
      "n = 275621053\n",
      "p = 17021 q = 16193\n",
      "p * q = 275621053\n"
     ]
    }
   ],
   "source": [
    "import math\n",
    "\n",
    "n = 275621053\n",
    "p, q = int(math.sqrt(n)), int(math.sqrt(n))\n",
    "while p * q != n:\n",
    "  if p * q < n:\n",
    "    p += 1\n",
    "  else:\n",
    "    q -= 1\n",
    "print(\"n =\", n)\n",
    "print(\"p =\", p, \"q =\", q)\n",
    "print(\"p * q =\", p * q)"
   ]
  },
  {
   "cell_type": "markdown",
   "metadata": {},
   "source": [
    "## Task 2"
   ]
  },
  {
   "cell_type": "markdown",
   "metadata": {},
   "source": [
    "### a\n",
    "Alice wants to set up her RSA encryption with private key (n, d) with n = pq, using two\n",
    "primes p and q, and private key d = 3. She chooses p = 1283, but wonders which of the\n",
    "following choices for q she should use (NB! They are all prime numbers):\n",
    "$$ 1307, 1879, 2003, 2027 $$\n",
    "\n",
    "Explain why she should use q = 2027 for the system to work and to be most secure. For\n",
    "the weak choices of q, name an effective attack to factorize n (of course, these numbers\n",
    "are far too small to be secure, so consider the security in relative terms.) <hr>\n"
   ]
  },
  {
   "cell_type": "markdown",
   "metadata": {},
   "source": [
    "Since p = 1283, we want a number that is not so close to this. This means that 1307 is not an option. We then look at the other options for q. Both  (p-1) and (q-1) should not have small factors (other than 2 obviously). This is so that we make it more secure against Pollard's p-1 algorithm. We look at the factors for q-1:"
   ]
  },
  {
   "cell_type": "code",
   "execution_count": 16,
   "metadata": {},
   "outputs": [
    {
     "name": "stdout",
     "output_type": "stream",
     "text": [
      "The factors of 1878 are:\n",
      "2\n",
      "3\n",
      "6\n",
      "313\n",
      "626\n",
      "939\n",
      "The factors of 2002 are:\n",
      "2\n",
      "7\n",
      "11\n",
      "13\n",
      "14\n",
      "22\n",
      "26\n",
      "77\n",
      "91\n",
      "143\n",
      "154\n",
      "182\n",
      "286\n",
      "1001\n",
      "The factors of 2026 are:\n",
      "2\n",
      "1013\n"
     ]
    }
   ],
   "source": [
    "def print_factors(x):\n",
    "   print(\"The factors of\",x,\"are:\")\n",
    "   for i in range(2, int(x/2 + 1)):\n",
    "       if x % i == 0:\n",
    "           print(i)\n",
    "\n",
    "numbers = [1879, 2003, 2027]\n",
    "for number in numbers:\n",
    "  print_factors(number-1)"
   ]
  },
  {
   "cell_type": "markdown",
   "metadata": {},
   "source": [
    "Here we see that 2026 (2027 - 1) is 2*1013, which is a prime multiplied with 2. This makes 2027 a good choice for q, since it's also not so similar to q (1283)"
   ]
  },
  {
   "cell_type": "markdown",
   "metadata": {},
   "source": [
    "### b\n",
    "Find the corresponding public key e using the extended Euclidean algorithm. Write a\n",
    "program to do the calculation.<hr>\n",
    "Calculate the multiplicative inverse d to e\n",
    "modulo (𝑝 − 1) (𝑞 − 1) , 𝑠𝑜\n",
    "𝑑𝑒 ≡ 1 𝑚𝑜𝑑 (𝑝 − 1)(𝑞 − 1)\n"
   ]
  },
  {
   "cell_type": "code",
   "execution_count": 3,
   "metadata": {},
   "outputs": [],
   "source": [
    "def extended_euclidean(a, b):\n",
    "    if a == 0:\n",
    "        return b, 0, 1\n",
    "    else:\n",
    "        gcd, x1, y1 = extended_euclidean(b % a, a)\n",
    "        # Update x and y using results of recursive call\n",
    "        x = y1 - (b // a) * x1\n",
    "        y = x1\n",
    "        return gcd, x, y\n",
    "     "
   ]
  },
  {
   "cell_type": "code",
   "execution_count": 25,
   "metadata": {},
   "outputs": [
    {
     "name": "stdout",
     "output_type": "stream",
     "text": [
      "Solution to gcd(a, b) = ax + by, with a=e, x=d=3 and b=(p-1)(q-1)\n",
      "gcd= 1 e= 1731555 y= 1\n",
      "e= 1731555 is the modular inverse of d mod phi(n), and our public key component\n",
      "d*e - y*phi(n) =  1\n"
     ]
    }
   ],
   "source": [
    "p = 1283\n",
    "q = 2027\n",
    "d = 3\n",
    "phi_n = (p-1)*(q-1)\n",
    "gcd, e, y = extended_euclidean(d, (p-1)*(q-1))\n",
    "if e < 0:\n",
    "    e += phi_n # We want a positive value for e\n",
    "print(\"Solution to gcd(a, b) = ax + by, with a=e, x=d=3 and b=(p-1)(q-1)\")\n",
    "print(\"gcd=\", gcd, \"e=\", e, \"y=\", y)\n",
    "print(\"e=\", e, \"is the modular inverse of d mod phi(n), and our public key component\")\n",
    "print(\"d*e - y*phi(n) = \", d*e - 2*(p-1)*(q-1))"
   ]
  },
  {
   "cell_type": "markdown",
   "metadata": {},
   "source": [
    "### c\n",
    "Encrypt the message 111 using repeated squaring. Implement the algorithm yourself.\n",
    "<hr>\n",
    "\n",
    "N ≡ M<sup>e</sup> mod(n) <br>\n",
    "https://www.cs.drexel.edu/~popyack/IntroCS/HW/RSAWorksheet.html"
   ]
  },
  {
   "cell_type": "code",
   "execution_count": 27,
   "metadata": {},
   "outputs": [],
   "source": [
    "import math\n",
    "\n",
    "def find_exponent(e, pows):\n",
    "    bin_exp = bin(e)[2:]  # Convert the exponent to binary string\n",
    "    for i, bit in enumerate(reversed(bin_exp)):\n",
    "        if bit == '1':\n",
    "            pows.append(i)\n",
    "\n",
    "def encrypt_rsa(m, e, n):\n",
    "    pows = []\n",
    "    find_exponent(e, pows)\n",
    "    calc = m % n\n",
    "    res = 1  # Initialize to 1 for multiplication\n",
    "    for i in range(max(pows) + 1):\n",
    "        if i in pows:\n",
    "            res = (res * calc) % n\n",
    "        calc = calc**2 % n\n",
    "    return res\n",
    "\n",
    "def decrypt_rsa(c, d, n):\n",
    "    return pow(c, d, n)\n"
   ]
  },
  {
   "cell_type": "code",
   "execution_count": 28,
   "metadata": {},
   "outputs": [
    {
     "name": "stdout",
     "output_type": "stream",
     "text": [
      "n= 2600641 e= 1731555 m= 111\n",
      "111 encrypted becomes:  1509208\n",
      "1509208 decrypted becomes 111\n"
     ]
    }
   ],
   "source": [
    "p = 1283\n",
    "q = 2027\n",
    "n = p*q\n",
    "d = 3\n",
    "e = 1731555\n",
    "m = 111\n",
    "\n",
    "print(\"n=\", n, \"e=\", e, \"m=\", m)\n",
    "c = encrypt_rsa(m, e, n)\n",
    "print(\"111 encrypted becomes: \", c)\n",
    "print(c, \"decrypted becomes\", decrypt_rsa(c, d, n))"
   ]
  },
  {
   "cell_type": "markdown",
   "metadata": {},
   "source": [
    "## 3\n",
    "### a\n",
    " Let n = 1829 and B = 5. Find a prime factor of n by using Pollard (p − 1) attack."
   ]
  },
  {
   "cell_type": "code",
   "execution_count": 29,
   "metadata": {},
   "outputs": [],
   "source": [
    "def pollard(n, B):\n",
    "    a = 2\n",
    "    for j in range(2, B + 1):\n",
    "        a = pow(a, j, n)  \n",
    "        d = math.gcd(a - 1, n)  \n",
    "        if 1 < d < n: \n",
    "            return d\n",
    "    return None  "
   ]
  },
  {
   "cell_type": "code",
   "execution_count": 39,
   "metadata": {},
   "outputs": [
    {
     "name": "stdout",
     "output_type": "stream",
     "text": [
      "n= 1829 B= 5\n",
      "factor of n is:  31\n",
      "n = 1829 = 31 * 59\n"
     ]
    }
   ],
   "source": [
    "n = 1829\n",
    "B = 5\n",
    "p = int(pollard(n, B))\n",
    "print(\"n=\", n, \"B=\", B)\n",
    "print(\"factor of n is: \", p)\n",
    "print(\"n = \" + str(n) + \" = \" + str(p) + \" * \" + str(int(n/p)))\n"
   ]
  },
  {
   "cell_type": "markdown",
   "metadata": {},
   "source": [
    "### b \n",
    "Let n = 18779. Using Pollard (p−1), how small B can be used for the attack to be successful (Use knowledge of the factorizations of n.) You do not need to find the facotirzation.\n",
    "<hr>"
   ]
  },
  {
   "cell_type": "code",
   "execution_count": 38,
   "metadata": {},
   "outputs": [
    {
     "name": "stdout",
     "output_type": "stream",
     "text": [
      "n= 18779 B= 7\n",
      "factor of n is:  211\n",
      "n = 18779 = 211 * 89\n",
      "We see that with B = 7, we find a factor of n\n"
     ]
    }
   ],
   "source": [
    "n = 18779\n",
    "for i in range(10):\n",
    "  B = i+1\n",
    "  p = (pollard(n, B))\n",
    "  if(p == None):\n",
    "    continue\n",
    "  print(\"n=\", n, \"B=\", B)\n",
    "  print(\"factor of n is: \", p)\n",
    "  print(\"n = \" + str(n) + \" = \" + str(p) + \" * \" + str(int(n/p)))\n",
    "  break\n",
    "\n",
    "print(\"We see that with B = 7, we find a factor of n\")"
   ]
  },
  {
   "cell_type": "markdown",
   "metadata": {},
   "source": [
    "## 4\n",
    "Show that encryption in RSA has the following property:\n",
    "$$e_K(x1)e_K(x2) mod n = e_K(x1x2) mod n $$ \n",
    "<hr/>\n",
    "using p = 1287, q = 2027, d = 3 and e = 868479, x1 = 111, x2 = 234"
   ]
  },
  {
   "cell_type": "code",
   "execution_count": 36,
   "metadata": {},
   "outputs": [
    {
     "name": "stdout",
     "output_type": "stream",
     "text": [
      "n= 2608749 e= 1731555 x1= 111 x2= 234\n",
      "ek(x1)*ek(x2) % n =  245466\n",
      "ek(x1*x2) % n =  245466\n"
     ]
    }
   ],
   "source": [
    "p = 1287\n",
    "q = 2027\n",
    "n = p*q\n",
    "d = 3\n",
    "e = 1731555\n",
    "x1 = 111\n",
    "x2 = 234\n",
    "\n",
    "e_x1 = encrypt_rsa(x1, e, n)\n",
    "e_x2 = encrypt_rsa(x2, e, n)\n",
    "\n",
    "e_x = (e_x1 * e_x2) % n\n",
    "\n",
    "e_x1x2 = encrypt_rsa(x1*x2, e, n)\n",
    "\n",
    "print(\"n=\", n, \"e=\", e, \"x1=\", x1, \"x2=\", x2)\n",
    "\n",
    "print(\"ek(x1)*ek(x2) % n = \", e_x)\n",
    "print(\"ek(x1*x2) % n = \", e_x1x2)"
   ]
  },
  {
   "cell_type": "markdown",
   "metadata": {},
   "source": [
    "### b\n",
    "Show how RSA is vulnerable to chosen cipher text attack: \n",
    "\n",
    "For ciphertext y, then\n",
    "Eva can choose some r ̸≡ 1 mod n, and construct y\n",
    "′ = y · r\n",
    "e\n",
    ". \n",
    "\n",
    "If she then knows the\n",
    "decryption x′ = dK(y'), show how she can calculate x = dK(y)\n",
    "\n",
    "(Hint: She can also\n",
    "calculate r\n",
    "−1 mod n)"
   ]
  },
  {
   "cell_type": "code",
   "execution_count": 33,
   "metadata": {},
   "outputs": [
    {
     "name": "stdout",
     "output_type": "stream",
     "text": [
      "n= 2600641 e= 1731555\n",
      "y= 1656239\n",
      "Goal: find plaintext x for ciphertext y\n",
      "\n",
      "selecting r= 5 such that gcd(r, n) = 1 and r mod n != 1\n",
      "r mod n =  5 != 1\n",
      "gcd(r, n) =  1 == 1, meaning they are coprime\n",
      "\n",
      "y' = y * r^e mod n =  2432486\n",
      "x' = y' ^ d mod n =  1605\n",
      "This means that x' = x * r mod n\n",
      "We can find x by finding the modular inverse of r mod n\n",
      "r= 5 n= 2600641\n",
      "Modular inverse of r mod n is:  2080513\n",
      "x = x' * r_inv mod n =  321\n",
      "\n",
      "We have now constructed x from y, without knowing the private key d, but getting y' decrypted\n"
     ]
    }
   ],
   "source": [
    "x = 321\n",
    "e = 1731555\n",
    "p = 1283\n",
    "q = 2027\n",
    "n = p*q\n",
    "y = encrypt_rsa(x, e, n)\n",
    "\n",
    "print(\"n=\", n, \"e=\", e)\n",
    "print(\"y=\", y)\n",
    "print(\"Goal: find plaintext x for ciphertext y\\n\")\n",
    "r = 5\n",
    "print(\"selecting r=\", r, \"such that gcd(r, n) = 1 and r mod n != 1\")\n",
    "print(\"r mod n = \", r % n, \"!= 1\")\n",
    "print(\"gcd(r, n) = \", math.gcd(r, n), \"== 1, meaning they are coprime\\n\")\n",
    "\n",
    "y_ = (y * pow(r, e, n)) % n\n",
    "print(\"y' = y * r^e mod n = \", y_)\n",
    "x_ = decrypt_rsa(y_, d, n)\n",
    "print(\"x' = y' ^ d mod n = \", x_)\n",
    "print(\"This means that x' = x * r mod n\")\n",
    "print(\"We can find x by finding the modular inverse of r mod n\")\n",
    "print(\"r=\", r, \"n=\", n)\n",
    "gcd, r_inv, y = extended_euclidean(r, n)\n",
    "if r_inv < 0:\n",
    "    r_inv += n \n",
    "print(\"Modular inverse of r mod n is: \", r_inv)\n",
    "x_pred = (x_ * r_inv) % n\n",
    "print(\"x = x' * r_inv mod n = \", x_pred)\n",
    "print(\"\\nWe have now constructed x from y, without knowing the private key d, but getting y' decrypted\")"
   ]
  },
  {
   "cell_type": "markdown",
   "metadata": {},
   "source": [
    "## 5\n",
    "Alice and Bob want to have an common key using Diffie-Hellmann key exchange. They\n",
    "agree on using the prime 101, and base n = 3. Alice choosed her secret a = 33, and Bob chooses\n",
    "b = 65. <hr>\n",
    "### a\n",
    "Write a program that prints out all the powers 3<sup>i</sup>\n",
    "for i = 1, ..., 100. Do the same for 5<sup>i</sup>\n",
    ".\n",
    "What is a major difference between these two sequences? <br>\n",
    "We can see that all powers of 5 will end in 5, whereas this varies with the powers of 3\n",
    "\n",
    "\n"
   ]
  },
  {
   "cell_type": "code",
   "execution_count": 34,
   "metadata": {},
   "outputs": [
    {
     "name": "stdout",
     "output_type": "stream",
     "text": [
      "i 3^i 5^i\n",
      "1  3.0 5.0\n",
      "2  9.0 25.0\n",
      "3  27.0 125.0\n",
      "4  81.0 625.0\n",
      "5  243.0 3125.0\n",
      "6  729.0 15625.0\n",
      "7  2187.0 78125.0\n",
      "8  6561.0 390625.0\n",
      "9  19683.0 1953125.0\n",
      "10 59049.0 9765625.0\n",
      "11 177147.0 48828125.0\n",
      "12 531441.0 244140625.0\n",
      "13 1594323.0 1220703125.0\n",
      "14 4782969.0 6103515625.0\n",
      "15 14348907.0 30517578125.0\n",
      "16 43046721.0 152587890625.0\n",
      "17 129140163.0 762939453125.0\n",
      "18 387420489.0 3814697265625.0\n",
      "19 1162261467.0 19073486328125.0\n",
      "20 3486784401.0 95367431640625.0\n",
      "21 10460353203.0 476837158203125.0\n",
      "22 31381059609.0 2384185791015625.0\n",
      "23 94143178827.0 1.1920928955078124e+16\n",
      "24 282429536481.0 5.960464477539062e+16\n",
      "25 847288609443.0 2.9802322387695315e+17\n",
      "26 2541865828329.0 1.4901161193847657e+18\n",
      "27 7625597484987.0 7.450580596923828e+18\n",
      "28 22876792454961.0 3.725290298461914e+19\n",
      "29 68630377364883.0 1.862645149230957e+20\n",
      "30 205891132094649.0 9.313225746154785e+20\n",
      "31 617673396283947.0 4.6566128730773924e+21\n",
      "32 1853020188851841.0 2.3283064365386964e+22\n",
      "33 5559060566555523.0 1.164153218269348e+23\n",
      "34 1.6677181699666568e+16 5.8207660913467404e+23\n",
      "35 5.0031545098999704e+16 2.9103830456733703e+24\n",
      "36 1.5009463529699914e+17 1.4551915228366852e+25\n",
      "37 4.502839058909974e+17 7.2759576141834256e+25\n",
      "38 1.350851717672992e+18 3.637978807091713e+26\n",
      "39 4.052555153018976e+18 1.8189894035458564e+27\n",
      "40 1.2157665459056929e+19 9.094947017729283e+27\n",
      "41 3.647299637717079e+19 4.547473508864641e+28\n",
      "42 1.0941898913151237e+20 2.2737367544323207e+29\n",
      "43 3.2825696739453705e+20 1.1368683772161603e+30\n",
      "44 9.847709021836112e+20 5.684341886080802e+30\n",
      "45 2.9543127065508336e+21 2.8421709430404005e+31\n",
      "46 8.862938119652501e+21 1.4210854715202004e+32\n",
      "47 2.65888143589575e+22 7.105427357601002e+32\n",
      "48 7.976644307687251e+22 3.552713678800501e+33\n",
      "49 2.3929932923061753e+23 1.7763568394002504e+34\n",
      "50 7.178979876918526e+23 8.881784197001253e+34\n",
      "51 2.1536939630755577e+24 4.440892098500626e+35\n",
      "52 6.461081889226673e+24 2.220446049250313e+36\n",
      "53 1.938324566768002e+25 1.1102230246251565e+37\n",
      "54 5.8149737003040055e+25 5.551115123125783e+37\n",
      "55 1.7444921100912017e+26 2.7755575615628914e+38\n",
      "56 5.233476330273606e+26 1.3877787807814458e+39\n",
      "57 1.5700428990820816e+27 6.938893903907229e+39\n",
      "58 4.710128697246245e+27 3.469446951953614e+40\n",
      "59 1.4130386091738735e+28 1.734723475976807e+41\n",
      "60 4.23911582752162e+28 8.673617379884035e+41\n",
      "61 1.2717347482564862e+29 4.3368086899420175e+42\n",
      "62 3.8152042447694586e+29 2.168404344971009e+43\n",
      "63 1.1445612734308374e+30 1.0842021724855045e+44\n",
      "64 3.4336838202925124e+30 5.421010862427522e+44\n",
      "65 1.0301051460877538e+31 2.710505431213761e+45\n",
      "66 3.090315438263261e+31 1.3552527156068805e+46\n",
      "67 9.270946314789783e+31 6.776263578034403e+46\n",
      "68 2.7812838944369352e+32 3.388131789017201e+47\n",
      "69 8.343851683310805e+32 1.6940658945086008e+48\n",
      "70 2.5031555049932416e+33 8.470329472543004e+48\n",
      "71 7.509466514979725e+33 4.235164736271502e+49\n",
      "72 2.252839954493917e+34 2.1175823681357507e+50\n",
      "73 6.758519863481753e+34 1.0587911840678754e+51\n",
      "74 2.0275559590445257e+35 5.293955920339377e+51\n",
      "75 6.0826678771335774e+35 2.6469779601696884e+52\n",
      "76 1.8248003631400732e+36 1.3234889800848443e+53\n",
      "77 5.474401089420219e+36 6.617444900424221e+53\n",
      "78 1.6423203268260657e+37 3.308722450212111e+54\n",
      "79 4.926960980478197e+37 1.6543612251060553e+55\n",
      "80 1.4780882941434593e+38 8.271806125530277e+55\n",
      "81 4.434264882430378e+38 4.135903062765138e+56\n",
      "82 1.3302794647291133e+39 2.067951531382569e+57\n",
      "83 3.99083839418734e+39 1.0339757656912846e+58\n",
      "84 1.197251518256202e+40 5.169878828456423e+58\n",
      "85 3.591754554768606e+40 2.5849394142282115e+59\n",
      "86 1.0775263664305817e+41 1.2924697071141058e+60\n",
      "87 3.2325790992917455e+41 6.462348535570528e+60\n",
      "88 9.697737297875236e+41 3.231174267785264e+61\n",
      "89 2.909321189362571e+42 1.6155871338926322e+62\n",
      "90 8.727963568087712e+42 8.077935669463161e+62\n",
      "91 2.6183890704263137e+43 4.038967834731581e+63\n",
      "92 7.855167211278941e+43 2.0194839173657903e+64\n",
      "93 2.3565501633836824e+44 1.0097419586828952e+65\n",
      "94 7.069650490151047e+44 5.048709793414476e+65\n",
      "95 2.1208951470453142e+45 2.524354896707238e+66\n",
      "96 6.362685441135942e+45 1.262177448353619e+67\n",
      "97 1.9088056323407826e+46 6.310887241768095e+67\n",
      "98 5.726416897022348e+46 3.155443620884047e+68\n",
      "99 1.7179250691067045e+47 1.5777218104420236e+69\n",
      "100 5.153775207320113e+47 7.888609052210118e+69\n"
     ]
    }
   ],
   "source": [
    "print(\"i\", \"3^i\", \"5^i\")\n",
    "for i in range(1, 100+1):\n",
    "  if(i<10):\n",
    "    print(i, end=\"  \")\n",
    "  else:\n",
    "    print(i, end=\" \")\n",
    "  print(float(math.pow(3,i)), end=\" \")\n",
    "  print(float(math.pow(5,i)))\n"
   ]
  },
  {
   "cell_type": "code",
   "execution_count": 35,
   "metadata": {},
   "outputs": [
    {
     "name": "stdout",
     "output_type": "stream",
     "text": [
      "p= 101 n= 3 a= 33 b= 65\n",
      "a1= 61 b1= 62\n",
      "k= b1^a mod p =  32\n",
      "k= a1^b mod p =  32\n",
      "Common key is 32\n"
     ]
    }
   ],
   "source": [
    "d_prime = 101\n",
    "base_n = 3\n",
    "alice_a = 33\n",
    "bob_b = 65\n",
    "\n",
    "a1 = pow(base_n, alice_a, d_prime)\n",
    "b1 = pow(base_n, bob_b, d_prime)\n",
    "k1 = pow(b1, alice_a, d_prime)\n",
    "k2 = pow(a1, bob_b, d_prime)\n",
    "print(\"p=\", d_prime, \"n=\", base_n, \"a=\", alice_a, \"b=\", bob_b)\n",
    "print(\"a1=\", a1, \"b1=\", b1)\n",
    "print(\"k= b1^a mod p = \", k1)\n",
    "print(\"k= a1^b mod p = \", k2)\n",
    "print(\"Common key is\", k1)"
   ]
  }
 ],
 "metadata": {
  "kernelspec": {
   "display_name": "Python 3",
   "language": "python",
   "name": "python3"
  },
  "language_info": {
   "codemirror_mode": {
    "name": "ipython",
    "version": 3
   },
   "file_extension": ".py",
   "mimetype": "text/x-python",
   "name": "python",
   "nbconvert_exporter": "python",
   "pygments_lexer": "ipython3",
   "version": "3.11.6"
  }
 },
 "nbformat": 4,
 "nbformat_minor": 2
}
