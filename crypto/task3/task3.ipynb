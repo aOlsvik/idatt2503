{
 "cells": [
  {
   "cell_type": "markdown",
   "metadata": {},
   "source": [
    "# Task 3"
   ]
  },
  {
   "cell_type": "markdown",
   "metadata": {},
   "source": [
    "## 1"
   ]
  },
  {
   "cell_type": "markdown",
   "metadata": {},
   "source": [
    "### a\n",
    "Given the recursive sequence/LFSR defined by\n",
    "zi+4 = zi + zi+1 + zi+2 + zi+3(mod 2)\n",
    "What are the periods using the keys\n",
    "<ol>\n",
    "<li> K = 1000 ? </li>\n",
    "<li> K = 0011 ? </li>\n",
    "<li> K = 1111 ? </li>\n",
    "<ol>"
   ]
  },
  {
   "cell_type": "code",
   "execution_count": 5,
   "metadata": {},
   "outputs": [
    {
     "name": "stdout",
     "output_type": "stream",
     "text": [
      "1A\n",
      "1 0 0 0 1 1 0 0 0 1\n",
      "0 0 1 1 0 0 0 1 1 0\n",
      "1 1 1 1 0 1 1 1 1 0\n",
      "\n",
      "We can see that the pattern repeats every 5 bits.\n"
     ]
    }
   ],
   "source": [
    "z = lambda z1, z2, z3, z4 : (z1 + z2 + z3 + z4) % 2\n",
    "print(\"1A\")\n",
    "key1 = '1000'\n",
    "key2 = '0011'\n",
    "key3 = '1111'\n",
    "\n",
    "keys = [key1, key2, key3]\n",
    "\n",
    "for key in keys:\n",
    "    z1 = int(key[0])\n",
    "    z2 = int(key[1])\n",
    "    z3 = int(key[2])\n",
    "    z4 = int(key[3])\n",
    "    z5 = z(z1, z2, z3, z4)\n",
    "    z6 = z(z2, z3, z4, z5)\n",
    "    z7 = z(z3, z4, z5, z6)\n",
    "    z8 = z(z4, z5, z6, z7)\n",
    "    z9 = z(z5, z6, z7, z8)\n",
    "    z10 = z(z6, z7, z8, z9)\n",
    "    print(z1, z2, z3, z4, z5, z6, z7, z8, z9, z10)\n",
    "\n",
    "print(\"\\nWe can see that the pattern repeats every 5 bits.\")"
   ]
  },
  {
   "cell_type": "markdown",
   "metadata": {},
   "source": [
    "### b\n",
    "What are the periods with the same keys using the following LFSR?\n",
    "$$z_i+4 = z_i + z_i+3(mod 2)$$\n"
   ]
  },
  {
   "cell_type": "code",
   "execution_count": 4,
   "metadata": {},
   "outputs": [
    {
     "name": "stdout",
     "output_type": "stream",
     "text": [
      "1B\n",
      "[1, 0, 0, 0, 1, 1, 1, 1, 0, 1, 0, 1, 1, 0, 0, 1, 0, 0, 0, 1]\n",
      "[0, 0, 1, 1, 1, 1, 0, 1, 0, 1, 1, 0, 0, 1, 0, 0, 0, 1, 1, 1]\n",
      "[1, 1, 1, 1, 0, 1, 0, 1, 1, 0, 0, 1, 0, 0, 0, 1, 1, 1, 1, 0]\n",
      "\n",
      "We see that after 12 bits the initial sequence repeats itself\n"
     ]
    }
   ],
   "source": [
    "z = lambda z1, z2, z3, z4 : (z1 + z4) % 2\n",
    "\n",
    "print(\"1B\")\n",
    "\n",
    "key1 = '1000'\n",
    "key2 = '0011'\n",
    "key3 = '1111'\n",
    "\n",
    "keys = [key1, key2, key3]\n",
    "\n",
    "for key in keys:\n",
    "    z1 = int(key[0])\n",
    "    z2 = int(key[1])\n",
    "    z3 = int(key[2])\n",
    "    z4 = int(key[3])\n",
    "    z_ = []\n",
    "    z_.append(z1)\n",
    "    z_.append(z2)\n",
    "    z_.append(z3)\n",
    "    z_.append(z4)\n",
    "    for i in range (2**len(key)):\n",
    "        z_.append(z(z1, z2, z3, z4))\n",
    "        z1, z2, z3, z4 = z2, z3, z4, z(z1, z2, z3, z4)\n",
    "\n",
    "    print(z_)\n",
    "\n",
    "print(\"\\nWe see that after 12 bits the initial sequence repeats itself\")"
   ]
  },
  {
   "cell_type": "markdown",
   "metadata": {},
   "source": [
    "## 2\n",
    "\n",
    "Vi define a HMAC as follows:\n",
    "- Key K = 1001\n",
    "- ipad = 0011\n",
    "- opad = 0101\n",
    "- h is the midsquare-hasing, calculating x\n",
    "2\n",
    "(mod 28\n",
    ") \n",
    "\n",
    "and retrieving the middle four binary\n",
    "digits. Eg. 10112 = 01111001 (with leading 0), giving us 1110 as hash value.\n"
   ]
  },
  {
   "cell_type": "markdown",
   "metadata": {},
   "source": [
    "### a\n",
    "Find the HMAC for the message 0110"
   ]
  },
  {
   "cell_type": "code",
   "execution_count": 1,
   "metadata": {},
   "outputs": [],
   "source": [
    "key = '1001'\n",
    "ipad = '0011'\n",
    "opad = '0101'\n",
    "\n",
    "def h(x):\n",
    "  x_int = int(x, 2)\n",
    "  x_sq = x_int**2 % 2**8\n",
    "  x_sq_bin = format(x_sq, '08b')\n",
    "  return x_sq_bin[2:6]\n",
    "\n",
    "def hmac(key, ipad, opad, message):\n",
    "  if(len(key)>4): raise ValueError(\"Key too long\")\n",
    "  if(len(key)<4): key = key.zfill(4)\n",
    "\n",
    "  key_ipad = int(key, 2) ^ int(ipad, 2)\n",
    "  key_ipad = bin(key_ipad)[2:]\n",
    "  if(len(key_ipad)<4): key_ipad = key_ipad.zfill(4)\n",
    "  new_message = key_ipad + message\n",
    "  new_message = h(new_message).zfill(4)\n",
    "  key_opad = int(key, 2) ^ int(opad, 2)\n",
    "  key_opad = bin(key_opad)[2:]\n",
    "  if(len(key_opad)<4): key_opad = key_opad.zfill(4)\n",
    "  m2 = key_opad + new_message\n",
    "  return h(m2)"
   ]
  },
  {
   "cell_type": "code",
   "execution_count": 2,
   "metadata": {},
   "outputs": [
    {
     "name": "stdout",
     "output_type": "stream",
     "text": [
      "2A\n",
      "HMAC of message 0110 is 0100\n"
     ]
    }
   ],
   "source": [
    "print(\"2A\")\n",
    "message = '0110'\n",
    "print(\"HMAC of message\", message, \"is\", hmac(key, ipad, opad, message))"
   ]
  },
  {
   "cell_type": "code",
   "execution_count": 5,
   "metadata": {},
   "outputs": [
    {
     "name": "stdout",
     "output_type": "stream",
     "text": [
      "2B\n",
      "HMAC of message 0111 is 0100\n",
      "Expected HMAC of message 0111 is 0100\n",
      "Therefore, there is reason to believe the message is authentic\n"
     ]
    }
   ],
   "source": [
    "print(\"2B\")\n",
    "message2 = '0111'\n",
    "expected = '0100'\n",
    "\n",
    "print(\"HMAC of message\", message2, \"is\", hmac(key, ipad, opad, message2))\n",
    "print(\"Expected HMAC of message\", message2, \"is\", expected)\n",
    "\n",
    "print(\"Therefore, there is reason to believe the message is authentic\")"
   ]
  },
  {
   "cell_type": "markdown",
   "metadata": {},
   "source": [
    "## 3"
   ]
  },
  {
   "cell_type": "markdown",
   "metadata": {},
   "source": [
    "Use the Cæsar cipher, with encryption $$e_3(x) = x + 3 (mod 2^8\n",
    ")$$ and find the CBC-MAC to the\n",
    "following two messages:"
   ]
  },
  {
   "cell_type": "code",
   "execution_count": 20,
   "metadata": {},
   "outputs": [],
   "source": [
    "def caesar_3(plaintext):\n",
    "  if(len(plaintext) != 8): raise ValueError(\"Plaintext must be 8 bits\")\n",
    "  return bin((int(plaintext, 2) + 3) % 2**8)[2:].zfill(8)\n",
    "\n",
    "def cbc_mac(plaintext):\n",
    "  plaintext = plaintext.replace(\" \", \"\")\n",
    "  blocks = []\n",
    "  iv = '00000000'\n",
    "  res = iv\n",
    "  for i in range(0, len(plaintext), 8):\n",
    "    blocks.append(plaintext[i:i+8])\n",
    "\n",
    "  for i in range(len(blocks)):\n",
    "    res = caesar_3(bin(int(res, 2) ^ int(blocks[i], 2))[2:].zfill(8))\n",
    "\n",
    "  return res[0:4] + \" \" + res[4:8]\n",
    "\n"
   ]
  },
  {
   "cell_type": "code",
   "execution_count": 23,
   "metadata": {},
   "outputs": [
    {
     "name": "stdout",
     "output_type": "stream",
     "text": [
      "3\n",
      "CBC-MAC of 1101 1111 1010 0001 is 0100 0110\n",
      "CBC-MAC of 0010 1100 0001 1111 is 0011 0011\n"
     ]
    }
   ],
   "source": [
    "x = '1101 1111 1010 0001'\n",
    "x_ = '0010 1100 0001 1111'\n",
    "\n",
    "print(\"3\")\n",
    "print(\"CBC-MAC of\", x, \"is\", cbc_mac(x))\n",
    "print(\"CBC-MAC of\", x_, \"is\", cbc_mac(x_))"
   ]
  },
  {
   "cell_type": "code",
   "execution_count": 24,
   "metadata": {},
   "outputs": [],
   "source": [
    "def getSubTable():\n",
    "  return [\n",
    "    ['63', '7c', '77', '7b', 'f2', '6b', '6f', 'c5', '30', '01', '67', '2b', 'fe', 'd7', 'ab', '76'],\n",
    "    ['ca', '82', 'c9', '7d', 'fa', '59', '47', 'f0', 'ad', 'd4', 'a2', 'af', '9c', 'a4', '72', 'c0'],\n",
    "    ['b7', 'fd', '93', '26', '36', '3f', 'f7', 'cc', '34', 'a5', 'e5', 'f1', '71', 'd8', '31', '15'],\n",
    "    ['04', 'c7', '23', 'c3', '18', '96', '05', '9a', '07', '12', '80', 'e2', 'eb', '27', 'b2', '75'],\n",
    "    ['09', '83', '2c', '1a', '1b', '6e', '5a', 'a0', '52', '3b', 'd6', 'b3', '29', 'e3', '2f', '84'],\n",
    "    ['53', 'd1', '00', 'ed', '20', 'fc', 'b1', '5b', '6a', 'cb', 'be', '39', '4a', '4c', '58', 'cf'],\n",
    "    ['d0', 'ef', 'aa', 'fb', '43', '4d', '33', '85', '45', 'f9', '02', '7f', '50', '3c', '9f', 'a8'],\n",
    "    ['51', 'a3', '40', '8f', '92', '9d', '38', 'f5', 'bc', 'b6', 'da', '21', '10', 'ff', 'f3', 'd2'],\n",
    "    ['cd', '0c', '13', 'ec', '5f', '97', '44', '17', 'c4', 'a7', '7e', '3d', '64', '5d', '19', '73'],\n",
    "    ['60', '81', '4f', 'dc', '22', '2a', '90', '88', '46', 'ee', 'b8', '14', 'de', '5e', '0b', 'db'],\n",
    "    ['e0', '32', '3a', '0a', '49', '06', '24', '5c', 'c2', 'd3', 'ac', '62', '91', '95', 'e4', '79'],\n",
    "    ['e7', 'c8', '37', '6d', '8d', 'd5', '4e', 'a9', '6c', '56', 'f4', 'ea', '65', '7a', 'ae', '08'],\n",
    "    ['ba', '78', '25', '2e', '1c', 'a6', 'b4', 'c6', 'e8', 'dd', '74', '1f', '4b', 'bd', '8b', '8a'],\n",
    "    ['70', '3e', 'b5', '66', '48', '03', 'f6', '0e', '61', '35', '57', 'b9', '86', 'c1', '1d', '9e'],\n",
    "    ['e1', 'f8', '98', '11', '69', 'd9', '8e', '94', '9b', '1e', '87', 'e9', 'ce', '55', '28', 'df'],\n",
    "    ['8c', 'a1', '89', '0d', 'bf', 'e6', '42', '68', '41', '99', '2d', '0f', 'b0', '54', 'bb', '16']\n",
    "  ]"
   ]
  },
  {
   "cell_type": "markdown",
   "metadata": {},
   "source": [
    "## 4\n",
    "\n",
    "We can construct a key-stream by using a block cipher in CTR-mode, by simply encrypting\n",
    "a sequence of values with a block cipher. It will use a nonce (initial value) combined with a\n",
    "output counter. \n",
    "\n",
    "Here we will use addition modulo 2\n",
    "8 = 256 as the operation combining the nonce and\n",
    "the counter. The counter starts at 0, and add 1 to it for each round.\n",
    "For the block cipher in parts a-c below, we use the SUBBYTES of the AES cipher, which\n",
    "substitutes a byte (8 bits) for another byte using a table lookup (actually a calculation in a\n",
    "certain Galois field, but its not in the curriculum).\n"
   ]
  },
  {
   "cell_type": "code",
   "execution_count": 78,
   "metadata": {},
   "outputs": [
    {
     "name": "stdout",
     "output_type": "stream",
     "text": [
      "4A\n",
      "First 4 values of ctr with nonce = 01100101 and counter = 0 are\n",
      "01001101 00110011 10000101 01000101 \n"
     ]
    }
   ],
   "source": [
    "nonce = '01100101'\n",
    "counter = 0\n",
    "\n",
    "def subBytes(b):\n",
    "  alphabet = '0123456789abcdef'\n",
    "  row = alphabet.index(b[0])\n",
    "  col = alphabet.index(b[1])\n",
    "  return getSubTable()[row][col]\n",
    "\n",
    "def ctr(nonce, counter, length, plaintext=0):\n",
    "  ctr = []\n",
    "  if(plaintext == 0): plaintext = '0'*len(nonce)\n",
    "  for i in range(length):\n",
    "    counter_bin = bin(counter)[2:].zfill(8)\n",
    "    counter_bin = (int(nonce, 2) + int(counter_bin, 2)) % 2**8\n",
    "    counter_hex = hex(counter_bin)[2:].zfill(2)\n",
    "    counter_hex = subBytes(counter_hex)\n",
    "    binary = bin(int(counter_hex, 16))[2:].zfill(8)\n",
    "    binary_xor = int(binary, 2) ^ int(plaintext, 2)\n",
    "    binary_xor = bin(binary_xor)[2:].zfill(8)\n",
    "    ctr.append(binary_xor)\n",
    "    counter += 1\n",
    "  \n",
    "  return ctr\n",
    "\n",
    "print(\"4A\")\n",
    "print(\"First 4 values of ctr with nonce =\", nonce, \"and counter =\", counter, \"are\")\n",
    "for ctr in ctr(nonce, counter, 4):\n",
    "  print(ctr, end=\" \")\n",
    "print()\n"
   ]
  },
  {
   "cell_type": "markdown",
   "metadata": {},
   "source": [
    "### 4B\n",
    "What is the period of the key-stream? <hr/>\n",
    "\n",
    "Since the counter is added to the nonce, and this is modulo 2**8, this will become the period of the keystream (256)"
   ]
  },
  {
   "cell_type": "markdown",
   "metadata": {},
   "source": [
    "### 4C\n",
    "Can the computation of the keystream be easily parallelized? <hr/>\n",
    "\n",
    "Yes, since we're using the same nonce and incrementing the counter, without reusing previous blocks, this could be easily parallelized"
   ]
  },
  {
   "cell_type": "markdown",
   "metadata": {},
   "source": [
    "### 4D\n",
    "You intercept a message which is ecrypted by XOR-ing a key-stream generated by CTR,\n",
    "as described above, but with an unknown block cipher (not the one above). How could\n",
    "information about known plaintexts-ciphertext pairs be used to infer information about\n",
    "the key used? <hr/>\n",
    "\n",
    "Since XOR-operator is reversible, meaning X ^ Y ^ X = Y, we can use known plaintexts and ciphertexts to gain information about the key-stream used. That means with plaintext x and ciphertext y, we can use y ^ x  to recieve the key-stream after block-encryption for this nonce and counter. This can further be used to find information about the key"
   ]
  }
 ],
 "metadata": {
  "kernelspec": {
   "display_name": "Python 3",
   "language": "python",
   "name": "python3"
  },
  "language_info": {
   "codemirror_mode": {
    "name": "ipython",
    "version": 3
   },
   "file_extension": ".py",
   "mimetype": "text/x-python",
   "name": "python",
   "nbconvert_exporter": "python",
   "pygments_lexer": "ipython3",
   "version": "3.11.6"
  }
 },
 "nbformat": 4,
 "nbformat_minor": 2
}
