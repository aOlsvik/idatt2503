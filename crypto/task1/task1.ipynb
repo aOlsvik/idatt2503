{
 "cells": [
  {
   "cell_type": "markdown",
   "metadata": {},
   "source": [
    "# Task 7 / Cryptography Task 1"
   ]
  },
  {
   "cell_type": "markdown",
   "metadata": {},
   "source": [
    "## 1"
   ]
  },
  {
   "cell_type": "markdown",
   "metadata": {},
   "source": [
    "### a\n",
    "Vis at a%n = b%n (som vi også kan skrive som a mod n = b mod n) hvis og bare hvis\n",
    "a ≡ b (mod n)\n",
    "<hr/>"
   ]
  },
  {
   "cell_type": "markdown",
   "metadata": {},
   "source": [
    "Vi har at \n",
    "$$ a ≡ b (mod\\;n)$$\n",
    "\n",
    "Dette betyr at a og b har samme rest etter heltallsdivisjon med n, altså at\n",
    "$$ a (mod\\;n) = b (mod\\;n)$$"
   ]
  },
  {
   "cell_type": "markdown",
   "metadata": {},
   "source": [
    "### b\n",
    "Regn ut −99 mod 1001\n",
    "<hr/>"
   ]
  },
  {
   "cell_type": "code",
   "execution_count": null,
   "metadata": {},
   "outputs": [
    {
     "name": "stdout",
     "output_type": "stream",
     "text": [
      "-99 % 1001 = 902\n"
     ]
    }
   ],
   "source": [
    "print(\"-99 % 1001 =\", -99%1001)\n"
   ]
  },
  {
   "cell_type": "markdown",
   "metadata": {},
   "source": [
    "### c\n",
    "Regn ut 232 + 22 · 77 − 183 mod 8 <hr/>"
   ]
  },
  {
   "cell_type": "code",
   "execution_count": null,
   "metadata": {},
   "outputs": [
    {
     "name": "stdout",
     "output_type": "stream",
     "text": [
      "232 + 22 · 77 - 18^3 mod 8 = 1926\n",
      "(232 + 22 · 77 - 18^3) mod 8 = 6\n"
     ]
    }
   ],
   "source": [
    "print(\"232 + 22 · 77 - 18^3 mod 8 =\", 232 + 22 * 77 - 18**3 % 8)\n",
    "print(\"(232 + 22 · 77 - 18^3) mod 8 =\", (232 + 22 * 77 - 18**3) % 8)"
   ]
  },
  {
   "cell_type": "markdown",
   "metadata": {},
   "source": [
    "### d\n",
    "\n",
    "Avgjør om 55 ≡ 77 (mod 12)\n",
    "<hr/>"
   ]
  },
  {
   "cell_type": "code",
   "execution_count": null,
   "metadata": {},
   "outputs": [
    {
     "name": "stdout",
     "output_type": "stream",
     "text": [
      "55 % 12 = 7\n",
      "77 % 12 = 5\n",
      "55 ≡ 77 (mod 12): False\n"
     ]
    }
   ],
   "source": [
    "x1 = 55%12\n",
    "x2 = 77%12\n",
    "\n",
    "print(\"55 % 12 =\", 55%12)\n",
    "print(\"77 % 12 =\", 77%12)\n",
    "print(\"55 ≡ 77 (mod 12):\", x1 == x2)\n"
   ]
  },
  {
   "cell_type": "markdown",
   "metadata": {},
   "source": [
    "## 2"
   ]
  },
  {
   "cell_type": "markdown",
   "metadata": {},
   "source": [
    "### a\n",
    "Skriv ut multiplikasjonstabellen i Z<sub>12</sub> , (uten å ta med raden eller kolonnen for 0-gangen).\n",
    "<hr/>"
   ]
  },
  {
   "cell_type": "code",
   "execution_count": 40,
   "metadata": {},
   "outputs": [],
   "source": [
    "def print_modulo_table(n):\n",
    "    print(\"Modulo table for Zn, n = {0:2d}\\n\".format(n))\n",
    "\n",
    "# print the header with numbers\n",
    "    for i in range(n):\n",
    "        if(i==0):\n",
    "            print(\"    \", end=\" \")\n",
    "        else:\n",
    "            print(i, end=\"   \")\n",
    "\n",
    "    # print newline and the horisontal rule\n",
    "    print()\n",
    "    print(\"-\"*50)\n",
    "\n",
    "    # print the table\n",
    "    for i in range(1,n):\n",
    "        for j in range(n):\n",
    "            if(j == 0):\n",
    "                print(\"{0:2d} |\".format((i)), end=\" \")\n",
    "            else:\n",
    "                if(i*j%n < 10):\n",
    "                    print(i*j%n, end=\"   \")\n",
    "                else:\n",
    "                    print(i*j%n, end=\"  \")\n",
    "        print()"
   ]
  },
  {
   "cell_type": "code",
   "execution_count": 41,
   "metadata": {},
   "outputs": [
    {
     "name": "stdout",
     "output_type": "stream",
     "text": [
      "Modulo table for Zn, n = 12\n",
      "\n",
      "     1   2   3   4   5   6   7   8   9   10   11   \n",
      "--------------------------------------------------\n",
      " 1 | 1   2   3   4   5   6   7   8   9   10  11  \n",
      " 2 | 2   4   6   8   10  0   2   4   6   8   10  \n",
      " 3 | 3   6   9   0   3   6   9   0   3   6   9   \n",
      " 4 | 4   8   0   4   8   0   4   8   0   4   8   \n",
      " 5 | 5   10  3   8   1   6   11  4   9   2   7   \n",
      " 6 | 6   0   6   0   6   0   6   0   6   0   6   \n",
      " 7 | 7   2   9   4   11  6   1   8   3   10  5   \n",
      " 8 | 8   4   0   8   4   0   8   4   0   8   4   \n",
      " 9 | 9   6   3   0   9   6   3   0   9   6   3   \n",
      "10 | 10  8   6   4   2   0   10  8   6   4   2   \n",
      "11 | 11  10  9   8   7   6   5   4   3   2   1   \n"
     ]
    }
   ],
   "source": [
    "print_modulo_table(12)"
   ]
  },
  {
   "cell_type": "markdown",
   "metadata": {},
   "source": [
    "### b\n",
    "Hvilke tall har multiplikative inverser modulo 12?\n",
    "<hr/>"
   ]
  },
  {
   "cell_type": "code",
   "execution_count": 45,
   "metadata": {},
   "outputs": [],
   "source": [
    "def find_inverses(n):\n",
    "    print(\"Multiplikative inverser modulo {0:2d} er tall a og b som oppfyller ab ≡ 1 (mod {0:2d})\\n\".format(n))\n",
    "\n",
    "    # finner tallene hvor ab ≡ 1 (mod n)\n",
    "\n",
    "    mult_inverse = []\n",
    "\n",
    "    for i in range(1,n):\n",
    "        for j in range(n):\n",
    "            if(j == 0):\n",
    "                continue\n",
    "            else:\n",
    "                if(i*j%n == 1):\n",
    "                    mult_inverse.append((i,j))\n",
    "\n",
    "    print(\"Multiplikative inverse par modulo {0:2d} er:\".format(n))\n",
    "    for pair in mult_inverse:\n",
    "        print(\"({0}, {1})\".format(pair[0], pair[1]))"
   ]
  },
  {
   "cell_type": "code",
   "execution_count": 47,
   "metadata": {},
   "outputs": [
    {
     "name": "stdout",
     "output_type": "stream",
     "text": [
      "Multiplikative inverser modulo 12 er tall a og b som oppfyller ab ≡ 1 (mod 12)\n",
      "\n",
      "Multiplikative inverse par modulo 12 er:\n",
      "(1, 1)\n",
      "(5, 5)\n",
      "(7, 7)\n",
      "(11, 11)\n"
     ]
    }
   ],
   "source": [
    "find_inverses(12)"
   ]
  },
  {
   "cell_type": "markdown",
   "metadata": {},
   "source": [
    "### c\n",
    "Gjør det samme for Z<sub>11</sub>. Hvilke tall har multiplikativ invers mod 11?\n",
    "<hr/>"
   ]
  },
  {
   "cell_type": "code",
   "execution_count": 48,
   "metadata": {},
   "outputs": [
    {
     "name": "stdout",
     "output_type": "stream",
     "text": [
      "Modulo table for Zn, n = 11\n",
      "\n",
      "     1   2   3   4   5   6   7   8   9   10   \n",
      "--------------------------------------------------\n",
      " 1 | 1   2   3   4   5   6   7   8   9   10  \n",
      " 2 | 2   4   6   8   10  1   3   5   7   9   \n",
      " 3 | 3   6   9   1   4   7   10  2   5   8   \n",
      " 4 | 4   8   1   5   9   2   6   10  3   7   \n",
      " 5 | 5   10  4   9   3   8   2   7   1   6   \n",
      " 6 | 6   1   7   2   8   3   9   4   10  5   \n",
      " 7 | 7   3   10  6   2   9   5   1   8   4   \n",
      " 8 | 8   5   2   10  7   4   1   9   6   3   \n",
      " 9 | 9   7   5   3   1   10  8   6   4   2   \n",
      "10 | 10  9   8   7   6   5   4   3   2   1   \n"
     ]
    }
   ],
   "source": [
    "print_modulo_table(11)"
   ]
  },
  {
   "cell_type": "code",
   "execution_count": 51,
   "metadata": {},
   "outputs": [
    {
     "name": "stdout",
     "output_type": "stream",
     "text": [
      "Multiplikative inverser modulo 11 er tall a og b som oppfyller ab ≡ 1 (mod 11)\n",
      "\n",
      "Multiplikative inverse par modulo 11 er:\n",
      "(1, 1)\n",
      "(2, 6)\n",
      "(3, 4)\n",
      "(4, 3)\n",
      "(5, 9)\n",
      "(6, 2)\n",
      "(7, 8)\n",
      "(8, 7)\n",
      "(9, 5)\n",
      "(10, 10)\n"
     ]
    }
   ],
   "source": [
    "find_inverses(11)"
   ]
  },
  {
   "cell_type": "markdown",
   "metadata": {},
   "source": [
    "### d\n",
    "Finn en multiplikativ invers til 11 modulo 29, med “brute force”\n",
    "<hr/>"
   ]
  },
  {
   "cell_type": "code",
   "execution_count": 56,
   "metadata": {},
   "outputs": [
    {
     "name": "stdout",
     "output_type": "stream",
     "text": [
      "8 er multiplikativ invers av 11 modulo 29\n",
      "11 * 8 ≡ 1 (mod 29)\n"
     ]
    }
   ],
   "source": [
    "for i in range (1,29):\n",
    "    if(i*11%29== 1):\n",
    "        print(\"{0} er multiplikativ invers av 11 modulo 29\".format(i))\n",
    "        print(\"11 * {0} ≡ 1 (mod 29)\".format(i))\n",
    "        break"
   ]
  },
  {
   "cell_type": "markdown",
   "metadata": {},
   "source": [
    "### e\n",
    "Formuler en sammenheng mellom det at a har en multiplikativ invers modulo n, og om\n",
    "tallet har felles faktorer med n.\n",
    "<hr/>"
   ]
  },
  {
   "cell_type": "markdown",
   "metadata": {},
   "source": [
    "For at et tall <strong>a</strong> skal ha ha en multiplikativ invers modulo <strong>n</strong>, kan ikke <strong>a</strong> ha en felles faktor med <strong>n</strong> annet enn 1"
   ]
  },
  {
   "cell_type": "markdown",
   "metadata": {},
   "source": [
    "## 4\n",
    "\n",
    "Du har snappet om følgende melding mellom Alice og Bob: (Her er mellomrom fra klartekst\n",
    "fjernet, og chifferteksten er gruppert med 5 tegn.)\n",
    "$$ YÆVFB\\;\\;VBVFR\\;\\;ÅVBV $$\n",
    "Du vet at Alice og Bob bruker et k-skift-chiffer. Bruk brute-force til å finne krypteringsnøkkelen\n",
    "og klarteksten.\n",
    "Skriv gjerne et program for å hjelpe deg."
   ]
  },
  {
   "cell_type": "code",
   "execution_count": 18,
   "metadata": {},
   "outputs": [
    {
     "name": "stdout",
     "output_type": "stream",
     "text": [
      "yævfbvbvfråvbv\n",
      "zøwgcwcwgsawcw\n",
      "æåxhdxdxhtbxdx\n",
      "øayieyeyiucyey\n",
      "åbzjfzfzjvdzfz\n",
      "acækgægækweægæ\n",
      "bdølhøhølxføhø\n",
      "ceåmiåiåmygåiå\n",
      "dfanjajanzhaja\n",
      "egbokbkboæibkb\n",
      "fhcplclcpøjclc\n",
      "gidqmdmdqåkdmd\n",
      "hjerneneralene\n",
      "ikfsofofsbmfof\n",
      "jlgtpgpgtcngpg\n",
      "kmhuqhqhudohqh\n",
      "lnivririvepiri\n",
      "mojwsjsjwfqjsj\n",
      "npkxtktkxgrktk\n",
      "oqlyululyhslul\n",
      "prmzvmvmzitmvm\n",
      "qsnæwnwnæjunwn\n",
      "rtoøxoxoøkvoxo\n",
      "supåypypålwpyp\n",
      "tvqazqzqamxqzq\n",
      "uwrbærærbnyrær\n"
     ]
    }
   ],
   "source": [
    "def k_shift(k, string):\n",
    "    alphabet = \"abcdefghijklmnopqrstuvwxyzæøå\"\n",
    "    resultstring = \"\"\n",
    "    string = string.replace(\" \", \"\").lower()\n",
    "    for letter in string:\n",
    "        index = alphabet.index(letter)\n",
    "        newindex = (index + k) % len(alphabet)\n",
    "        resultstring += alphabet[newindex]\n",
    "\n",
    "    return resultstring\n",
    "\n",
    "def bruteforce(string):\n",
    "    for i in range(26):\n",
    "        print(k_shift(i, string))\n",
    "\n",
    "bruteforce(\"YÆVFB VBVFR ÅVBV\")\n",
    "\n",
    "# hjerneneralene - hjernen er alene"
   ]
  },
  {
   "cell_type": "code",
   "execution_count": null,
   "metadata": {},
   "outputs": [],
   "source": []
  }
 ],
 "metadata": {
  "kernelspec": {
   "display_name": "Python 3",
   "language": "python",
   "name": "python3"
  },
  "language_info": {
   "codemirror_mode": {
    "name": "ipython",
    "version": 3
   },
   "file_extension": ".py",
   "mimetype": "text/x-python",
   "name": "python",
   "nbconvert_exporter": "python",
   "pygments_lexer": "ipython3",
   "version": "3.11.5"
  }
 },
 "nbformat": 4,
 "nbformat_minor": 2
}
