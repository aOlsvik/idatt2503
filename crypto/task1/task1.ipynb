{
 "cells": [
  {
   "cell_type": "markdown",
   "metadata": {},
   "source": [
    "# Task 7 / Cryptography Task 1"
   ]
  },
  {
   "cell_type": "markdown",
   "metadata": {},
   "source": [
    "## 1"
   ]
  },
  {
   "cell_type": "markdown",
   "metadata": {},
   "source": [
    "### a\n",
    "Vis at a%n = b%n (som vi også kan skrive som a mod n = b mod n) hvis og bare hvis\n",
    "a ≡ b (mod n)\n",
    "<hr/>"
   ]
  },
  {
   "cell_type": "markdown",
   "metadata": {},
   "source": [
    "Vi har at \n",
    "$$ a ≡ b (mod\\;n)$$\n",
    "\n",
    "Dette betyr at a og b har samme rest etter heltallsdivisjon med n, altså at\n",
    "$$ a (mod\\;n) = b (mod\\;n)$$"
   ]
  },
  {
   "cell_type": "markdown",
   "metadata": {},
   "source": [
    "### b\n",
    "Regn ut −99 mod 1001\n",
    "<hr/>"
   ]
  },
  {
   "cell_type": "code",
   "execution_count": 1,
   "metadata": {},
   "outputs": [
    {
     "name": "stdout",
     "output_type": "stream",
     "text": [
      "-99 % 1001 = 902\n"
     ]
    }
   ],
   "source": [
    "print(\"-99 % 1001 =\", -99%1001)\n"
   ]
  },
  {
   "cell_type": "markdown",
   "metadata": {},
   "source": [
    "### c\n",
    "Regn ut 232 + 22 · 77 − 183 mod 8 <hr/>"
   ]
  },
  {
   "cell_type": "code",
   "execution_count": 2,
   "metadata": {},
   "outputs": [
    {
     "name": "stdout",
     "output_type": "stream",
     "text": [
      "232 + 22 · 77 - 18^3 mod 8 = 1926\n",
      "(232 + 22 · 77 - 18^3) mod 8 = 6\n"
     ]
    }
   ],
   "source": [
    "print(\"232 + 22 · 77 - 18^3 mod 8 =\", 232 + 22 * 77 - 18**3 % 8)\n",
    "print(\"(232 + 22 · 77 - 18^3) mod 8 =\", (232 + 22 * 77 - 18**3) % 8)"
   ]
  },
  {
   "cell_type": "markdown",
   "metadata": {},
   "source": [
    "### d\n",
    "\n",
    "Avgjør om 55 ≡ 77 (mod 12)\n",
    "<hr/>"
   ]
  },
  {
   "cell_type": "code",
   "execution_count": 3,
   "metadata": {},
   "outputs": [
    {
     "name": "stdout",
     "output_type": "stream",
     "text": [
      "55 % 12 = 7\n",
      "77 % 12 = 5\n",
      "55 ≡ 77 (mod 12): False\n"
     ]
    }
   ],
   "source": [
    "x1 = 55%12\n",
    "x2 = 77%12\n",
    "\n",
    "print(\"55 % 12 =\", 55%12)\n",
    "print(\"77 % 12 =\", 77%12)\n",
    "print(\"55 ≡ 77 (mod 12):\", x1 == x2)\n"
   ]
  },
  {
   "cell_type": "markdown",
   "metadata": {},
   "source": [
    "## 2"
   ]
  },
  {
   "cell_type": "markdown",
   "metadata": {},
   "source": [
    "### a\n",
    "Skriv ut multiplikasjonstabellen i Z<sub>12</sub> , (uten å ta med raden eller kolonnen for 0-gangen).\n",
    "<hr/>"
   ]
  },
  {
   "cell_type": "code",
   "execution_count": 4,
   "metadata": {},
   "outputs": [],
   "source": [
    "def print_modulo_table(n):\n",
    "    print(\"Modulo table for Zn, n = {0:2d}\\n\".format(n))\n",
    "\n",
    "# print the header with numbers\n",
    "    for i in range(n):\n",
    "        if(i==0):\n",
    "            print(\"    \", end=\" \")\n",
    "        else:\n",
    "            print(i, end=\"   \")\n",
    "\n",
    "    # print newline and the horisontal rule\n",
    "    print()\n",
    "    print(\"-\"*50)\n",
    "\n",
    "    # print the table\n",
    "    for i in range(1,n):\n",
    "        for j in range(n):\n",
    "            if(j == 0):\n",
    "                print(\"{0:2d} |\".format((i)), end=\" \")\n",
    "            else:\n",
    "                if(i*j%n < 10):\n",
    "                    print(i*j%n, end=\"   \")\n",
    "                else:\n",
    "                    print(i*j%n, end=\"  \")\n",
    "        print()"
   ]
  },
  {
   "cell_type": "code",
   "execution_count": 5,
   "metadata": {},
   "outputs": [
    {
     "name": "stdout",
     "output_type": "stream",
     "text": [
      "Modulo table for Zn, n = 12\n",
      "\n",
      "     1   2   3   4   5   6   7   8   9   10   11   \n",
      "--------------------------------------------------\n",
      " 1 | 1   2   3   4   5   6   7   8   9   10  11  \n",
      " 2 | 2   4   6   8   10  0   2   4   6   8   10  \n",
      " 3 | 3   6   9   0   3   6   9   0   3   6   9   \n",
      " 4 | 4   8   0   4   8   0   4   8   0   4   8   \n",
      " 5 | 5   10  3   8   1   6   11  4   9   2   7   \n",
      " 6 | 6   0   6   0   6   0   6   0   6   0   6   \n",
      " 7 | 7   2   9   4   11  6   1   8   3   10  5   \n",
      " 8 | 8   4   0   8   4   0   8   4   0   8   4   \n",
      " 9 | 9   6   3   0   9   6   3   0   9   6   3   \n",
      "10 | 10  8   6   4   2   0   10  8   6   4   2   \n",
      "11 | 11  10  9   8   7   6   5   4   3   2   1   \n"
     ]
    }
   ],
   "source": [
    "print_modulo_table(12)"
   ]
  },
  {
   "cell_type": "markdown",
   "metadata": {},
   "source": [
    "### b\n",
    "Hvilke tall har multiplikative inverser modulo 12?\n",
    "<hr/>"
   ]
  },
  {
   "cell_type": "code",
   "execution_count": 6,
   "metadata": {},
   "outputs": [],
   "source": [
    "def find_inverses(n):\n",
    "    print(\"Multiplikative inverser modulo {0:2d} er tall a og b som oppfyller ab ≡ 1 (mod {0:2d})\\n\".format(n))\n",
    "\n",
    "    # finner tallene hvor ab ≡ 1 (mod n)\n",
    "\n",
    "    mult_inverse = []\n",
    "\n",
    "    for i in range(1,n):\n",
    "        for j in range(n):\n",
    "            if(j == 0):\n",
    "                continue\n",
    "            else:\n",
    "                if(i*j%n == 1):\n",
    "                    mult_inverse.append((i,j))\n",
    "\n",
    "    print(\"Multiplikative inverse par modulo {0:2d} er:\".format(n))\n",
    "    for pair in mult_inverse:\n",
    "        print(\"({0}, {1})\".format(pair[0], pair[1]))"
   ]
  },
  {
   "cell_type": "code",
   "execution_count": 7,
   "metadata": {},
   "outputs": [
    {
     "name": "stdout",
     "output_type": "stream",
     "text": [
      "Multiplikative inverser modulo 12 er tall a og b som oppfyller ab ≡ 1 (mod 12)\n",
      "\n",
      "Multiplikative inverse par modulo 12 er:\n",
      "(1, 1)\n",
      "(5, 5)\n",
      "(7, 7)\n",
      "(11, 11)\n"
     ]
    }
   ],
   "source": [
    "find_inverses(12)"
   ]
  },
  {
   "cell_type": "markdown",
   "metadata": {},
   "source": [
    "### c\n",
    "Gjør det samme for Z<sub>11</sub>. Hvilke tall har multiplikativ invers mod 11?\n",
    "<hr/>"
   ]
  },
  {
   "cell_type": "code",
   "execution_count": 8,
   "metadata": {},
   "outputs": [
    {
     "name": "stdout",
     "output_type": "stream",
     "text": [
      "Modulo table for Zn, n = 11\n",
      "\n",
      "     1   2   3   4   5   6   7   8   9   10   \n",
      "--------------------------------------------------\n",
      " 1 | 1   2   3   4   5   6   7   8   9   10  \n",
      " 2 | 2   4   6   8   10  1   3   5   7   9   \n",
      " 3 | 3   6   9   1   4   7   10  2   5   8   \n",
      " 4 | 4   8   1   5   9   2   6   10  3   7   \n",
      " 5 | 5   10  4   9   3   8   2   7   1   6   \n",
      " 6 | 6   1   7   2   8   3   9   4   10  5   \n",
      " 7 | 7   3   10  6   2   9   5   1   8   4   \n",
      " 8 | 8   5   2   10  7   4   1   9   6   3   \n",
      " 9 | 9   7   5   3   1   10  8   6   4   2   \n",
      "10 | 10  9   8   7   6   5   4   3   2   1   \n"
     ]
    }
   ],
   "source": [
    "print_modulo_table(11)"
   ]
  },
  {
   "cell_type": "code",
   "execution_count": 9,
   "metadata": {},
   "outputs": [
    {
     "name": "stdout",
     "output_type": "stream",
     "text": [
      "Multiplikative inverser modulo 11 er tall a og b som oppfyller ab ≡ 1 (mod 11)\n",
      "\n",
      "Multiplikative inverse par modulo 11 er:\n",
      "(1, 1)\n",
      "(2, 6)\n",
      "(3, 4)\n",
      "(4, 3)\n",
      "(5, 9)\n",
      "(6, 2)\n",
      "(7, 8)\n",
      "(8, 7)\n",
      "(9, 5)\n",
      "(10, 10)\n"
     ]
    }
   ],
   "source": [
    "find_inverses(11)"
   ]
  },
  {
   "cell_type": "markdown",
   "metadata": {},
   "source": [
    "### d\n",
    "Finn en multiplikativ invers til 11 modulo 29, med “brute force”\n",
    "<hr/>"
   ]
  },
  {
   "cell_type": "code",
   "execution_count": 10,
   "metadata": {},
   "outputs": [
    {
     "name": "stdout",
     "output_type": "stream",
     "text": [
      "8 er multiplikativ invers av 11 modulo 29\n",
      "11 * 8 ≡ 1 (mod 29)\n"
     ]
    }
   ],
   "source": [
    "for i in range (1,29):\n",
    "    if(i*11%29== 1):\n",
    "        print(\"{0} er multiplikativ invers av 11 modulo 29\".format(i))\n",
    "        print(\"11 * {0} ≡ 1 (mod 29)\".format(i))\n",
    "        break"
   ]
  },
  {
   "cell_type": "markdown",
   "metadata": {},
   "source": [
    "### e\n",
    "Formuler en sammenheng mellom det at a har en multiplikativ invers modulo n, og om\n",
    "tallet har felles faktorer med n.\n",
    "<hr/>"
   ]
  },
  {
   "cell_type": "markdown",
   "metadata": {},
   "source": [
    "For at et tall <strong>a</strong> skal ha ha en multiplikativ invers modulo <strong>n</strong>, kan ikke <strong>a</strong> ha en felles faktor med <strong>n</strong> annet enn 1, dvs. at de er <em>relativt prim</em>"
   ]
  },
  {
   "cell_type": "markdown",
   "metadata": {},
   "source": [
    "## 3"
   ]
  },
  {
   "cell_type": "markdown",
   "metadata": {},
   "source": [
    "Vi skal bruke alfabetet a-å (kun små bokstaver) for klartekst, og skriver chiffer-tekst med store\n",
    "bokstaver. Vi identifiserer også bokstavene med tallene fra 0 til 28, betraktet som tall i Z<sub>29</sub>,\n",
    "dvs. heltallene modulo 29.\n",
    "Vi har en funksjon f : Z<sub>29</sub> → Z<sub>29</sub> til gitt ved formelen $$f(x) = (11 · x − 5)\\;mod\\;29$$"
   ]
  },
  {
   "cell_type": "markdown",
   "metadata": {},
   "source": [
    "### a\n",
    "Skriv opp verdiene til f som en sekvens f(0), f(1), ..., f(28). Konverter tallene til bokstaver.\n",
    "<hr/>"
   ]
  },
  {
   "cell_type": "code",
   "execution_count": 11,
   "metadata": {},
   "outputs": [
    {
     "name": "stdout",
     "output_type": "stream",
     "text": [
      "Conversion with shift chiffer using f(x) = (11x-5) mod 29)\n",
      "a b c d e f g h i j k l m n o p q r s t u v w x y z æ ø å \n",
      "Y G R Å K V D O Z H S A L W E P Æ I T B M X F Q Ø J U C N "
     ]
    }
   ],
   "source": [
    "lower_alphabet = \"abcdefghijklmnopqrstuvwxyzæøå\"\n",
    "upper_alphabet = \"ABCDEFGHIJKLMNOPQRSTUVWXYZÆØÅ\"\n",
    "print(\"Conversion with shift chiffer using f(x) = (11x-5) mod 29)\")\n",
    "\n",
    "f = lambda x: (11*x-5) % 29\n",
    "\n",
    "for letter in lower_alphabet:\n",
    "    print(letter, end=\" \")\n",
    "\n",
    "print()\n",
    "\n",
    "for letter in lower_alphabet:\n",
    "    print(upper_alphabet[f(lower_alphabet.index(letter))], end=\" \")"
   ]
  },
  {
   "cell_type": "markdown",
   "metadata": {},
   "source": [
    "### b\n",
    "Forklar at f er en permutasjon av Z<sub>29</sub>\n",
    "<hr/>"
   ]
  },
  {
   "cell_type": "markdown",
   "metadata": {},
   "source": [
    "For at f skal være en permutasjon av Z<sub>29</sub> må alle elementer i Z være representert i f. Dette vil si at elementene kun har endret rekkefølge, ikke verdimengde. Vi sjekker at antall elementer i Z er lik antall elementer i f:"
   ]
  },
  {
   "cell_type": "code",
   "execution_count": 12,
   "metadata": {},
   "outputs": [
    {
     "name": "stdout",
     "output_type": "stream",
     "text": [
      "Antall elementer i Z: 29\n",
      "Antall elementer i f: 29\n"
     ]
    }
   ],
   "source": [
    "print(\"Antall elementer i Z:\", len(lower_alphabet))\n",
    "f_elements = set()\n",
    "for letter in lower_alphabet:\n",
    "    f_elements.add(f(lower_alphabet.index(letter)))\n",
    "print(\"Antall elementer i f:\", len(f_elements))"
   ]
  },
  {
   "cell_type": "markdown",
   "metadata": {},
   "source": [
    "### c\n",
    "Finn den inverse permutasjonen f<sup>-1</sup>\n",
    "til f, både\n",
    "- som en sekvens av verdier f<sup>-1</sup>(0), f<sup>-1</sup>(1), ...\n",
    "- som formel på formen f<sup>-1</sup>(y) = ay + b (mod 29), dvs. bestem a og b.\n",
    "<hr/>"
   ]
  },
  {
   "cell_type": "code",
   "execution_count": 13,
   "metadata": {},
   "outputs": [
    {
     "name": "stdout",
     "output_type": "stream",
     "text": [
      "A B C D E F G H I J K L M N O P Q R S T U V W X Y Z Æ Ø Å \n",
      "l t ø g o w b j r z e m u å h p x c k s æ f n v a i q y d "
     ]
    }
   ],
   "source": [
    "for letter in upper_alphabet:\n",
    "    print(letter, end=\" \")\n",
    "print()\n",
    "corr_letters = [None] * 29\n",
    "for letter in lower_alphabet:\n",
    "    corr_letters[f(lower_alphabet.index(letter))] = letter\n",
    "\n",
    "for letter in corr_letters:\n",
    "    print(letter, end=\" \")"
   ]
  },
  {
   "cell_type": "markdown",
   "metadata": {},
   "source": [
    "For å finne invers av $$f(x) = 11x − 5\\;mod\\;29$$\n",
    "gjør vi algebra for å finne g(f(x)) = x hvor g(y) = f<sup>-1</sup>(y)\n",
    "Vi substituerer f(x) = y for å få: \n",
    "$$y = 11x − 5\\;mod\\;29$$ \n",
    "og bytter om på x og y (siden alle (x,y) har en tilsvarende (y,x))\n",
    "$$x = 11y − 5\\;mod\\;29$$\n",
    "vi flytter over og får:\n",
    "$$x+5 = 11y\\;mod\\;29$$\n",
    "nå trenger vi multiplikativ invers av 11 modulo 29, og finner denne fra oppgave 2d, altså 8. Dvs:\n",
    "$$ 11*8 \\equiv 1\\;mod\\;29$$\n",
    "Dermed kan vi multiplisere begge sider med 8, og høyre side forenkles:\n",
    "$$8x+40 = y\\;mod\\;29$$\n",
    "Nå kan vi flytte over igjen og finner at \n",
    "$$y = 8x+40\\;mod\\;29$$\n",
    "som kan forenkles til:\n",
    "$$y = 8x+11\\;mod\\;29$$"
   ]
  },
  {
   "cell_type": "markdown",
   "metadata": {},
   "source": [
    "Vi sjekker at vår nye funksjon,\n",
    "$$f^{-1} = 8x+11\\;mod\\;29$$\n",
    "stemmer:"
   ]
  },
  {
   "cell_type": "code",
   "execution_count": 14,
   "metadata": {},
   "outputs": [
    {
     "name": "stdout",
     "output_type": "stream",
     "text": [
      "A B C D E F G H I J K L M N O P Q R S T U V W X Y Z Æ Ø Å      Upper alphabet\n",
      "l t ø g o w b j r z e m u å h p x c k s æ f n v a i q y d      The corresponding letters using f\n",
      "l t ø g o w b j r z e m u å h p x c k s æ f n v a i q y d      The corresponding letters using f inverse\n"
     ]
    }
   ],
   "source": [
    "for letter in upper_alphabet:\n",
    "    print(letter, end=\" \")\n",
    "print(5*\" \"+\"Upper alphabet\")\n",
    "corr_letters = [None] * 29\n",
    "f_inverse = lambda y : (8*y+11) % 29\n",
    "for letter in lower_alphabet:\n",
    "    corr_letters[f(lower_alphabet.index(letter))] = letter\n",
    "\n",
    "for letter in corr_letters:\n",
    "    print(letter, end=\" \")\n",
    "print(5*\" \"+\"The corresponding letters using f\")\n",
    "corr_letters_inverse = []\n",
    "for letter in upper_alphabet:\n",
    "    corr_letters_inverse.append(lower_alphabet[f_inverse(upper_alphabet.index(letter))])\n",
    "\n",
    "for letter in corr_letters_inverse:\n",
    "    print(letter, end=\" \")\n",
    "print(5*\" \"+\"The corresponding letters using f inverse\")"
   ]
  },
  {
   "cell_type": "markdown",
   "metadata": {},
   "source": [
    "Metode 1 bruker f(x) og legger elementene på rett plass i listen\n",
    "Metode 2 bruker f<sup>-1</sup>(y) og itererer over elementene i listen, og finner riktig korresponderende element\n",
    "\n",
    "Begge metodene får samme resultat"
   ]
  },
  {
   "cell_type": "markdown",
   "metadata": {},
   "source": [
    "### d\n",
    "Bruk f som nøkkel i et enkelt substitusjons-chiffer til å kryptere meldingen m = ’alice’\n",
    "<hr>"
   ]
  },
  {
   "cell_type": "code",
   "execution_count": 15,
   "metadata": {},
   "outputs": [
    {
     "name": "stdout",
     "output_type": "stream",
     "text": [
      "Message: alice\n",
      "Encrypted message: YAZRK\n"
     ]
    }
   ],
   "source": [
    "m = \"alice\"\n",
    "print(\"Message:\", m)\n",
    "c = \"\"\n",
    "for letter in m:\n",
    "    c += upper_alphabet[f(lower_alphabet.index(letter))]\n",
    "print(\"Encrypted message:\", c)"
   ]
  },
  {
   "cell_type": "markdown",
   "metadata": {},
   "source": [
    "### e\n",
    "Bruk f som nøkkel og dekrypter c = SIØPBE\n",
    "<hr>"
   ]
  },
  {
   "cell_type": "code",
   "execution_count": 16,
   "metadata": {},
   "outputs": [
    {
     "name": "stdout",
     "output_type": "stream",
     "text": [
      "Encrypted message: SIØPBE\n",
      "Decrypted message: krypto\n"
     ]
    }
   ],
   "source": [
    "c = \"SIØPBE\"\n",
    "m = \"\"\n",
    "print(\"Encrypted message:\", c)\n",
    "for letter in c:\n",
    "    m += lower_alphabet[f_inverse(upper_alphabet.index(letter))]\n",
    "print(\"Decrypted message:\", m)"
   ]
  },
  {
   "cell_type": "markdown",
   "metadata": {},
   "source": [
    "## 4\n",
    "\n",
    "Du har snappet om følgende melding mellom Alice og Bob: (Her er mellomrom fra klartekst\n",
    "fjernet, og chifferteksten er gruppert med 5 tegn.)\n",
    "$$ YÆVFB\\;\\;VBVFR\\;\\;ÅVBV $$\n",
    "Du vet at Alice og Bob bruker et k-skift-chiffer. Bruk brute-force til å finne krypteringsnøkkelen\n",
    "og klarteksten.\n",
    "Skriv gjerne et program for å hjelpe deg."
   ]
  },
  {
   "cell_type": "code",
   "execution_count": 17,
   "metadata": {},
   "outputs": [
    {
     "name": "stdout",
     "output_type": "stream",
     "text": [
      "yævfbvbvfråvbv\n",
      "zøwgcwcwgsawcw\n",
      "æåxhdxdxhtbxdx\n",
      "øayieyeyiucyey\n",
      "åbzjfzfzjvdzfz\n",
      "acækgægækweægæ\n",
      "bdølhøhølxføhø\n",
      "ceåmiåiåmygåiå\n",
      "dfanjajanzhaja\n",
      "egbokbkboæibkb\n",
      "fhcplclcpøjclc\n",
      "gidqmdmdqåkdmd\n",
      "hjerneneralene\n",
      "ikfsofofsbmfof\n",
      "jlgtpgpgtcngpg\n",
      "kmhuqhqhudohqh\n",
      "lnivririvepiri\n",
      "mojwsjsjwfqjsj\n",
      "npkxtktkxgrktk\n",
      "oqlyululyhslul\n",
      "prmzvmvmzitmvm\n",
      "qsnæwnwnæjunwn\n",
      "rtoøxoxoøkvoxo\n",
      "supåypypålwpyp\n",
      "tvqazqzqamxqzq\n",
      "uwrbærærbnyrær\n"
     ]
    }
   ],
   "source": [
    "def k_shift(k, string):\n",
    "    alphabet = \"abcdefghijklmnopqrstuvwxyzæøå\"\n",
    "    resultstring = \"\"\n",
    "    string = string.replace(\" \", \"\").lower()\n",
    "    for letter in string:\n",
    "        index = alphabet.index(letter)\n",
    "        newindex = (index + k) % len(alphabet)\n",
    "        resultstring += alphabet[newindex]\n",
    "\n",
    "    return resultstring\n",
    "\n",
    "def bruteforce(string):\n",
    "    for i in range(26):\n",
    "        print(k_shift(i, string))\n",
    "\n",
    "bruteforce(\"YÆVFB VBVFR ÅVBV\")\n",
    "\n",
    "# hjerneneralene - hjernen er alene"
   ]
  },
  {
   "cell_type": "markdown",
   "metadata": {},
   "source": [
    "## 5"
   ]
  },
  {
   "cell_type": "markdown",
   "metadata": {},
   "source": [
    "I denne oppgaven skal du bruke Vigènere-chiffer. (Det er ikke Vigènere som oppfant chifferet,\n",
    "men ble først beskrevet av Giovan Battista Bellaso i 1553.) Det er et type polyalfabetisk substitusjonschiffer, dvs. krypteringen av et tegn er ikke det samme for hver forekomst. Det avhenger\n",
    "også av hvor tegnet står i klarteksten."
   ]
  },
  {
   "cell_type": "markdown",
   "metadata": {},
   "source": [
    "### a\n",
    "Krypter teksten “Snart helg” med nøkkelordet “torsk”\n",
    "<hr>"
   ]
  },
  {
   "cell_type": "code",
   "execution_count": 18,
   "metadata": {},
   "outputs": [],
   "source": [
    "class Vigenere:\n",
    "  def __init__(self, key):\n",
    "    self.key = key\n",
    "    self.index = 0\n",
    "  \n",
    "  def get_key(self):\n",
    "    if(self.index >= len(self.key)):\n",
    "      self.index = 0\n",
    "    return_letter = self.key[self.index]\n",
    "    self.index += 1\n",
    "    return return_letter\n",
    "\n",
    "lower_alphabet = \"abcdefghijklmnopqrstuvwxyzæøå\"\n",
    "upper_alphabet = \"ABCDEFGHIJKLMNOPQRSTUVWXYZÆØÅ\"\n",
    "\n",
    "def encrypt(vigenere_object, message):\n",
    "  encrypted_message = \"\"\n",
    "  message = message.lower()\n",
    "  for letter in message:\n",
    "    if(letter == \" \"):\n",
    "      encrypted_message += \" \"\n",
    "    else:\n",
    "      encrypted_message += upper_alphabet[(lower_alphabet.index(letter) + lower_alphabet.index(vigenere_object.get_key()))%len(upper_alphabet)]\n",
    "  return encrypted_message\n",
    "\n",
    "def decrypt(vigenere_object, encrypted_message):\n",
    "  decrypted_message = \"\"\n",
    "  vigenere_object.index = 0\n",
    "  for letter in encrypted_message:\n",
    "    key = vigenere_object.get_key()\n",
    "    if(letter == \" \"):\n",
    "      decrypted_message += \" \"\n",
    "    else:\n",
    "      decrypted_message += lower_alphabet[(upper_alphabet.index(letter) - lower_alphabet.index(key))%len(lower_alphabet)]\n",
    "  return decrypted_message\n",
    "    "
   ]
  },
  {
   "cell_type": "code",
   "execution_count": 19,
   "metadata": {},
   "outputs": [
    {
     "name": "stdout",
     "output_type": "stream",
     "text": [
      "'Snart helg' encrypted with key 'torsk' is 'IØRGA ÆSÅY'\n"
     ]
    }
   ],
   "source": [
    "message = \"Snart helg\"\n",
    "key = Vigenere(\"torsk\")\n",
    "encrypted_message = encrypt(key, message)\n",
    "print(\"'{0}' encrypted with key '{1}' is '{2}'\".format(message, key.key, encrypted_message))\n"
   ]
  },
  {
   "cell_type": "markdown",
   "metadata": {},
   "source": [
    "### b\n",
    "Dekrypter QZQOBVCAFFKSDC med nøkkelordet “brus”\n",
    "<hr>"
   ]
  },
  {
   "cell_type": "code",
   "execution_count": 20,
   "metadata": {},
   "outputs": [
    {
     "name": "stdout",
     "output_type": "stream",
     "text": [
      "'QZQOBVCAFFKSDC' decrypted with key 'brus' is 'pizzaellertaco'\n"
     ]
    }
   ],
   "source": [
    "encrypted_message = \"QZQOBVCAFFKSDC\"\n",
    "key = Vigenere(\"brus\")\n",
    "decrypted_message = decrypt(key, encrypted_message)\n",
    "print(\"'{0}' decrypted with key '{1}' is '{2}'\".format(encrypted_message, key.key, decrypted_message))"
   ]
  },
  {
   "cell_type": "markdown",
   "metadata": {},
   "source": [
    "### c\n",
    "Hvis nøkkelordet har lengde 15, hvor mange nøkler finnes? Vil du anse dette som sikkret\n",
    "med tanke på et brute-force angrep?\n",
    "<hr>"
   ]
  },
  {
   "cell_type": "markdown",
   "metadata": {},
   "source": [
    "Dersom nøkkelordet har lengde 15 vil vi få mange mulige nøkler. Hvert tegn i nøkkelen kan ta verdi 0-28 (norsk alfabet), og dermed har vi 29 muligheter per tegn. \n",
    "Dette gir da, med n = 15, totalt: $$29^{15}$$ permutasjoner av nøkkelen. Dette må være å anse som trygt for brute-force angrep, ettersom dette tallet er svært stort og vil føre til altfor mange testinger for angriperen"
   ]
  }
 ],
 "metadata": {
  "kernelspec": {
   "display_name": "Python 3",
   "language": "python",
   "name": "python3"
  },
  "language_info": {
   "codemirror_mode": {
    "name": "ipython",
    "version": 3
   },
   "file_extension": ".py",
   "mimetype": "text/x-python",
   "name": "python",
   "nbconvert_exporter": "python",
   "pygments_lexer": "ipython3",
   "version": "3.9.7"
  }
 },
 "nbformat": 4,
 "nbformat_minor": 2
}
