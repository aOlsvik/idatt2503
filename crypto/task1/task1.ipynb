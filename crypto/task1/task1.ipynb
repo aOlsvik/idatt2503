{
 "cells": [
  {
   "cell_type": "markdown",
   "metadata": {},
   "source": [
    "# Task 7 / Cryptography Task 1"
   ]
  },
  {
   "cell_type": "markdown",
   "metadata": {},
   "source": [
    "## 1"
   ]
  },
  {
   "cell_type": "markdown",
   "metadata": {},
   "source": [
    "### a\n",
    "Vis at a%n = b%n (som vi også kan skrive som a mod n = b mod n) hvis og bare hvis\n",
    "a ≡ b (mod n)\n",
    "<hr/>"
   ]
  },
  {
   "cell_type": "markdown",
   "metadata": {},
   "source": [
    "Vi har at \n",
    "$$ a ≡ b (mod\\;n)$$\n",
    "\n",
    "Dette betyr at a og b har samme rest etter heltallsdivisjon med n, altså at\n",
    "$$ a (mod\\;n) = b (mod\\;n)$$"
   ]
  },
  {
   "cell_type": "markdown",
   "metadata": {},
   "source": [
    "### b\n",
    "Regn ut −99 mod 1001\n",
    "<hr/>"
   ]
  },
  {
   "cell_type": "code",
   "execution_count": 3,
   "metadata": {},
   "outputs": [
    {
     "name": "stdout",
     "output_type": "stream",
     "text": [
      "-99 % 1001 = 902\n"
     ]
    }
   ],
   "source": [
    "print(\"-99 % 1001 =\", -99%1001)\n"
   ]
  },
  {
   "cell_type": "markdown",
   "metadata": {},
   "source": [
    "### c\n",
    "Regn ut 232 + 22 · 77 − 183 mod 8 <hr/>"
   ]
  },
  {
   "cell_type": "code",
   "execution_count": 10,
   "metadata": {},
   "outputs": [
    {
     "name": "stdout",
     "output_type": "stream",
     "text": [
      "232 + 22 · 77 - 18^3 mod 8 = 1926\n",
      "(232 + 22 · 77 - 18^3) mod 8 = 6\n"
     ]
    }
   ],
   "source": [
    "print(\"232 + 22 · 77 - 18^3 mod 8 =\", 232 + 22 * 77 - 18**3 % 8)\n",
    "print(\"(232 + 22 · 77 - 18^3) mod 8 =\", (232 + 22 * 77 - 18**3) % 8)"
   ]
  },
  {
   "cell_type": "markdown",
   "metadata": {},
   "source": [
    "### d\n",
    "\n",
    "Avgjør om 55 ≡ 77 (mod 12)\n",
    "<hr/>"
   ]
  },
  {
   "cell_type": "code",
   "execution_count": 16,
   "metadata": {},
   "outputs": [
    {
     "name": "stdout",
     "output_type": "stream",
     "text": [
      "55 % 12 = 7\n",
      "77 % 12 = 5\n",
      "55 ≡ 77 (mod 12): False\n"
     ]
    }
   ],
   "source": [
    "x1 = 55%12\n",
    "x2 = 77%12\n",
    "\n",
    "print(\"55 % 12 =\", 55%12)\n",
    "print(\"77 % 12 =\", 77%12)\n",
    "print(\"55 ≡ 77 (mod 12):\", x1 == x2)\n"
   ]
  },
  {
   "cell_type": "markdown",
   "metadata": {},
   "source": [
    "## 2"
   ]
  },
  {
   "cell_type": "markdown",
   "metadata": {},
   "source": [
    "## 4\n",
    "\n",
    "Du har snappet om følgende melding mellom Alice og Bob: (Her er mellomrom fra klartekst\n",
    "fjernet, og chifferteksten er gruppert med 5 tegn.)\n",
    "$$ YÆVFB\\;\\;VBVFR\\;\\;ÅVBV $$\n",
    "Du vet at Alice og Bob bruker et k-skift-chiffer. Bruk brute-force til å finne krypteringsnøkkelen\n",
    "og klarteksten.\n",
    "Skriv gjerne et program for å hjelpe deg."
   ]
  },
  {
   "cell_type": "code",
   "execution_count": 18,
   "metadata": {},
   "outputs": [
    {
     "name": "stdout",
     "output_type": "stream",
     "text": [
      "yævfbvbvfråvbv\n",
      "zøwgcwcwgsawcw\n",
      "æåxhdxdxhtbxdx\n",
      "øayieyeyiucyey\n",
      "åbzjfzfzjvdzfz\n",
      "acækgægækweægæ\n",
      "bdølhøhølxføhø\n",
      "ceåmiåiåmygåiå\n",
      "dfanjajanzhaja\n",
      "egbokbkboæibkb\n",
      "fhcplclcpøjclc\n",
      "gidqmdmdqåkdmd\n",
      "hjerneneralene\n",
      "ikfsofofsbmfof\n",
      "jlgtpgpgtcngpg\n",
      "kmhuqhqhudohqh\n",
      "lnivririvepiri\n",
      "mojwsjsjwfqjsj\n",
      "npkxtktkxgrktk\n",
      "oqlyululyhslul\n",
      "prmzvmvmzitmvm\n",
      "qsnæwnwnæjunwn\n",
      "rtoøxoxoøkvoxo\n",
      "supåypypålwpyp\n",
      "tvqazqzqamxqzq\n",
      "uwrbærærbnyrær\n"
     ]
    }
   ],
   "source": [
    "def k_shift(k, string):\n",
    "    alphabet = \"abcdefghijklmnopqrstuvwxyzæøå\"\n",
    "    resultstring = \"\"\n",
    "    string = string.replace(\" \", \"\").lower()\n",
    "    for letter in string:\n",
    "        index = alphabet.index(letter)\n",
    "        newindex = (index + k) % len(alphabet)\n",
    "        resultstring += alphabet[newindex]\n",
    "\n",
    "    return resultstring\n",
    "\n",
    "def bruteforce(string):\n",
    "    for i in range(26):\n",
    "        print(k_shift(i, string))\n",
    "\n",
    "bruteforce(\"YÆVFB VBVFR ÅVBV\")\n",
    "\n",
    "# hjerneneralene - hjernen er alene"
   ]
  },
  {
   "cell_type": "code",
   "execution_count": null,
   "metadata": {},
   "outputs": [],
   "source": []
  }
 ],
 "metadata": {
  "kernelspec": {
   "display_name": "Python 3",
   "language": "python",
   "name": "python3"
  },
  "language_info": {
   "codemirror_mode": {
    "name": "ipython",
    "version": 3
   },
   "file_extension": ".py",
   "mimetype": "text/x-python",
   "name": "python",
   "nbconvert_exporter": "python",
   "pygments_lexer": "ipython3",
   "version": "3.9.7"
  }
 },
 "nbformat": 4,
 "nbformat_minor": 2
}
